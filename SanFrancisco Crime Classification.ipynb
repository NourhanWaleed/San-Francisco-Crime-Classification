{
 "cells": [
  {
   "cell_type": "code",
   "execution_count": 1,
   "id": "43abc677",
   "metadata": {
    "_cell_guid": "b1076dfc-b9ad-4769-8c92-a6c4dae69d19",
    "_uuid": "8f2839f25d086af736a60e9eeb907d3b93b6e0e5",
    "execution": {
     "iopub.execute_input": "2021-10-29T12:06:48.278632Z",
     "iopub.status.busy": "2021-10-29T12:06:48.276780Z",
     "iopub.status.idle": "2021-10-29T12:06:49.716388Z",
     "shell.execute_reply": "2021-10-29T12:06:49.717227Z",
     "shell.execute_reply.started": "2021-10-29T12:02:07.087830Z"
    },
    "papermill": {
     "duration": 1.49749,
     "end_time": "2021-10-29T12:06:49.717636",
     "exception": false,
     "start_time": "2021-10-29T12:06:48.220146",
     "status": "completed"
    },
    "tags": []
   },
   "outputs": [
    {
     "name": "stdout",
     "output_type": "stream",
     "text": [
      "/kaggle/input/sf-crime/train.csv.zip\n",
      "/kaggle/input/sf-crime/sampleSubmission.csv.zip\n",
      "/kaggle/input/sf-crime/test.csv.zip\n"
     ]
    }
   ],
   "source": [
    "# This Python 3 environment comes with many helpful analytics libraries installed\n",
    "# It is defined by the kaggle/python Docker image: https://github.com/kaggle/docker-python\n",
    "# For example, here's several helpful packages to load\n",
    "\n",
    "import numpy as np # linear algebra\n",
    "import pandas as pd # data processing, CSV file I/O (e.g. pd.read_csv)\n",
    "import matplotlib.pyplot as plt\n",
    "import seaborn as sns\n",
    "%matplotlib inline\n",
    "from collections import defaultdict\n",
    "from sklearn.preprocessing import StandardScaler, LabelEncoder\n",
    "import pylab\n",
    "from sklearn.metrics import classification_report,confusion_matrix\n",
    "from sklearn.ensemble import RandomForestClassifier\n",
    "from sklearn.metrics import accuracy_score\n",
    "from sklearn.svm import SVC\n",
    "# Input data files are available in the read-only \"../input/\" directory\n",
    "# For example, running this (by clicking run or pressing Shift+Enter) will list all files under the input directory\n",
    "\n",
    "import os\n",
    "for dirname, _, filenames in os.walk('/kaggle/input'):\n",
    "    for filename in filenames:\n",
    "        print(os.path.join(dirname, filename))\n",
    "\n",
    "# You can write up to 20GB to the current directory (/kaggle/working/) that gets preserved as output when you create a version using \"Save & Run All\" \n",
    "# You can also write temporary files to /kaggle/temp/, but they won't be saved outside of the current session"
   ]
  },
  {
   "cell_type": "code",
   "execution_count": 2,
   "id": "3a7dde0b",
   "metadata": {
    "execution": {
     "iopub.execute_input": "2021-10-29T12:06:49.828394Z",
     "iopub.status.busy": "2021-10-29T12:06:49.827663Z",
     "iopub.status.idle": "2021-10-29T12:06:53.322569Z",
     "shell.execute_reply": "2021-10-29T12:06:53.323094Z",
     "shell.execute_reply.started": "2021-10-29T12:02:08.362001Z"
    },
    "papermill": {
     "duration": 3.549111,
     "end_time": "2021-10-29T12:06:53.323280",
     "exception": false,
     "start_time": "2021-10-29T12:06:49.774169",
     "status": "completed"
    },
    "tags": []
   },
   "outputs": [
    {
     "data": {
      "text/html": [
       "<div>\n",
       "<style scoped>\n",
       "    .dataframe tbody tr th:only-of-type {\n",
       "        vertical-align: middle;\n",
       "    }\n",
       "\n",
       "    .dataframe tbody tr th {\n",
       "        vertical-align: top;\n",
       "    }\n",
       "\n",
       "    .dataframe thead th {\n",
       "        text-align: right;\n",
       "    }\n",
       "</style>\n",
       "<table border=\"1\" class=\"dataframe\">\n",
       "  <thead>\n",
       "    <tr style=\"text-align: right;\">\n",
       "      <th></th>\n",
       "      <th>Dates</th>\n",
       "      <th>Category</th>\n",
       "      <th>Descript</th>\n",
       "      <th>DayOfWeek</th>\n",
       "      <th>PdDistrict</th>\n",
       "      <th>Resolution</th>\n",
       "      <th>Address</th>\n",
       "      <th>X</th>\n",
       "      <th>Y</th>\n",
       "    </tr>\n",
       "  </thead>\n",
       "  <tbody>\n",
       "    <tr>\n",
       "      <th>0</th>\n",
       "      <td>2015-05-13 23:53:00</td>\n",
       "      <td>WARRANTS</td>\n",
       "      <td>WARRANT ARREST</td>\n",
       "      <td>Wednesday</td>\n",
       "      <td>NORTHERN</td>\n",
       "      <td>ARREST, BOOKED</td>\n",
       "      <td>OAK ST / LAGUNA ST</td>\n",
       "      <td>-122.425892</td>\n",
       "      <td>37.774599</td>\n",
       "    </tr>\n",
       "    <tr>\n",
       "      <th>1</th>\n",
       "      <td>2015-05-13 23:53:00</td>\n",
       "      <td>OTHER OFFENSES</td>\n",
       "      <td>TRAFFIC VIOLATION ARREST</td>\n",
       "      <td>Wednesday</td>\n",
       "      <td>NORTHERN</td>\n",
       "      <td>ARREST, BOOKED</td>\n",
       "      <td>OAK ST / LAGUNA ST</td>\n",
       "      <td>-122.425892</td>\n",
       "      <td>37.774599</td>\n",
       "    </tr>\n",
       "    <tr>\n",
       "      <th>2</th>\n",
       "      <td>2015-05-13 23:33:00</td>\n",
       "      <td>OTHER OFFENSES</td>\n",
       "      <td>TRAFFIC VIOLATION ARREST</td>\n",
       "      <td>Wednesday</td>\n",
       "      <td>NORTHERN</td>\n",
       "      <td>ARREST, BOOKED</td>\n",
       "      <td>VANNESS AV / GREENWICH ST</td>\n",
       "      <td>-122.424363</td>\n",
       "      <td>37.800414</td>\n",
       "    </tr>\n",
       "    <tr>\n",
       "      <th>3</th>\n",
       "      <td>2015-05-13 23:30:00</td>\n",
       "      <td>LARCENY/THEFT</td>\n",
       "      <td>GRAND THEFT FROM LOCKED AUTO</td>\n",
       "      <td>Wednesday</td>\n",
       "      <td>NORTHERN</td>\n",
       "      <td>NONE</td>\n",
       "      <td>1500 Block of LOMBARD ST</td>\n",
       "      <td>-122.426995</td>\n",
       "      <td>37.800873</td>\n",
       "    </tr>\n",
       "    <tr>\n",
       "      <th>4</th>\n",
       "      <td>2015-05-13 23:30:00</td>\n",
       "      <td>LARCENY/THEFT</td>\n",
       "      <td>GRAND THEFT FROM LOCKED AUTO</td>\n",
       "      <td>Wednesday</td>\n",
       "      <td>PARK</td>\n",
       "      <td>NONE</td>\n",
       "      <td>100 Block of BRODERICK ST</td>\n",
       "      <td>-122.438738</td>\n",
       "      <td>37.771541</td>\n",
       "    </tr>\n",
       "  </tbody>\n",
       "</table>\n",
       "</div>"
      ],
      "text/plain": [
       "                 Dates        Category                      Descript  \\\n",
       "0  2015-05-13 23:53:00        WARRANTS                WARRANT ARREST   \n",
       "1  2015-05-13 23:53:00  OTHER OFFENSES      TRAFFIC VIOLATION ARREST   \n",
       "2  2015-05-13 23:33:00  OTHER OFFENSES      TRAFFIC VIOLATION ARREST   \n",
       "3  2015-05-13 23:30:00   LARCENY/THEFT  GRAND THEFT FROM LOCKED AUTO   \n",
       "4  2015-05-13 23:30:00   LARCENY/THEFT  GRAND THEFT FROM LOCKED AUTO   \n",
       "\n",
       "   DayOfWeek PdDistrict      Resolution                    Address  \\\n",
       "0  Wednesday   NORTHERN  ARREST, BOOKED         OAK ST / LAGUNA ST   \n",
       "1  Wednesday   NORTHERN  ARREST, BOOKED         OAK ST / LAGUNA ST   \n",
       "2  Wednesday   NORTHERN  ARREST, BOOKED  VANNESS AV / GREENWICH ST   \n",
       "3  Wednesday   NORTHERN            NONE   1500 Block of LOMBARD ST   \n",
       "4  Wednesday       PARK            NONE  100 Block of BRODERICK ST   \n",
       "\n",
       "            X          Y  \n",
       "0 -122.425892  37.774599  \n",
       "1 -122.425892  37.774599  \n",
       "2 -122.424363  37.800414  \n",
       "3 -122.426995  37.800873  \n",
       "4 -122.438738  37.771541  "
      ]
     },
     "execution_count": 2,
     "metadata": {},
     "output_type": "execute_result"
    }
   ],
   "source": [
    "train_data=train_data=pd.read_csv('/kaggle/input/sf-crime/train.csv.zip')\n",
    "train_data.head()"
   ]
  },
  {
   "cell_type": "code",
   "execution_count": 3,
   "id": "17fdefe0",
   "metadata": {
    "execution": {
     "iopub.execute_input": "2021-10-29T12:06:53.429254Z",
     "iopub.status.busy": "2021-10-29T12:06:53.428270Z",
     "iopub.status.idle": "2021-10-29T12:06:56.052136Z",
     "shell.execute_reply": "2021-10-29T12:06:56.051068Z",
     "shell.execute_reply.started": "2021-10-29T12:02:11.706321Z"
    },
    "papermill": {
     "duration": 2.678535,
     "end_time": "2021-10-29T12:06:56.052300",
     "exception": false,
     "start_time": "2021-10-29T12:06:53.373765",
     "status": "completed"
    },
    "tags": []
   },
   "outputs": [
    {
     "data": {
      "text/html": [
       "<div>\n",
       "<style scoped>\n",
       "    .dataframe tbody tr th:only-of-type {\n",
       "        vertical-align: middle;\n",
       "    }\n",
       "\n",
       "    .dataframe tbody tr th {\n",
       "        vertical-align: top;\n",
       "    }\n",
       "\n",
       "    .dataframe thead th {\n",
       "        text-align: right;\n",
       "    }\n",
       "</style>\n",
       "<table border=\"1\" class=\"dataframe\">\n",
       "  <thead>\n",
       "    <tr style=\"text-align: right;\">\n",
       "      <th></th>\n",
       "      <th>Id</th>\n",
       "      <th>Dates</th>\n",
       "      <th>DayOfWeek</th>\n",
       "      <th>PdDistrict</th>\n",
       "      <th>Address</th>\n",
       "      <th>X</th>\n",
       "      <th>Y</th>\n",
       "    </tr>\n",
       "  </thead>\n",
       "  <tbody>\n",
       "    <tr>\n",
       "      <th>0</th>\n",
       "      <td>0</td>\n",
       "      <td>2015-05-10 23:59:00</td>\n",
       "      <td>Sunday</td>\n",
       "      <td>BAYVIEW</td>\n",
       "      <td>2000 Block of THOMAS AV</td>\n",
       "      <td>-122.399588</td>\n",
       "      <td>37.735051</td>\n",
       "    </tr>\n",
       "    <tr>\n",
       "      <th>1</th>\n",
       "      <td>1</td>\n",
       "      <td>2015-05-10 23:51:00</td>\n",
       "      <td>Sunday</td>\n",
       "      <td>BAYVIEW</td>\n",
       "      <td>3RD ST / REVERE AV</td>\n",
       "      <td>-122.391523</td>\n",
       "      <td>37.732432</td>\n",
       "    </tr>\n",
       "    <tr>\n",
       "      <th>2</th>\n",
       "      <td>2</td>\n",
       "      <td>2015-05-10 23:50:00</td>\n",
       "      <td>Sunday</td>\n",
       "      <td>NORTHERN</td>\n",
       "      <td>2000 Block of GOUGH ST</td>\n",
       "      <td>-122.426002</td>\n",
       "      <td>37.792212</td>\n",
       "    </tr>\n",
       "    <tr>\n",
       "      <th>3</th>\n",
       "      <td>3</td>\n",
       "      <td>2015-05-10 23:45:00</td>\n",
       "      <td>Sunday</td>\n",
       "      <td>INGLESIDE</td>\n",
       "      <td>4700 Block of MISSION ST</td>\n",
       "      <td>-122.437394</td>\n",
       "      <td>37.721412</td>\n",
       "    </tr>\n",
       "    <tr>\n",
       "      <th>4</th>\n",
       "      <td>4</td>\n",
       "      <td>2015-05-10 23:45:00</td>\n",
       "      <td>Sunday</td>\n",
       "      <td>INGLESIDE</td>\n",
       "      <td>4700 Block of MISSION ST</td>\n",
       "      <td>-122.437394</td>\n",
       "      <td>37.721412</td>\n",
       "    </tr>\n",
       "  </tbody>\n",
       "</table>\n",
       "</div>"
      ],
      "text/plain": [
       "   Id                Dates DayOfWeek PdDistrict                   Address  \\\n",
       "0   0  2015-05-10 23:59:00    Sunday    BAYVIEW   2000 Block of THOMAS AV   \n",
       "1   1  2015-05-10 23:51:00    Sunday    BAYVIEW        3RD ST / REVERE AV   \n",
       "2   2  2015-05-10 23:50:00    Sunday   NORTHERN    2000 Block of GOUGH ST   \n",
       "3   3  2015-05-10 23:45:00    Sunday  INGLESIDE  4700 Block of MISSION ST   \n",
       "4   4  2015-05-10 23:45:00    Sunday  INGLESIDE  4700 Block of MISSION ST   \n",
       "\n",
       "            X          Y  \n",
       "0 -122.399588  37.735051  \n",
       "1 -122.391523  37.732432  \n",
       "2 -122.426002  37.792212  \n",
       "3 -122.437394  37.721412  \n",
       "4 -122.437394  37.721412  "
      ]
     },
     "execution_count": 3,
     "metadata": {},
     "output_type": "execute_result"
    }
   ],
   "source": [
    "test_data=test_data=pd.read_csv('/kaggle/input/sf-crime/test.csv.zip')\n",
    "test_data.head()"
   ]
  },
  {
   "cell_type": "code",
   "execution_count": 4,
   "id": "303abc36",
   "metadata": {
    "execution": {
     "iopub.execute_input": "2021-10-29T12:06:56.166709Z",
     "iopub.status.busy": "2021-10-29T12:06:56.165967Z",
     "iopub.status.idle": "2021-10-29T12:06:56.857864Z",
     "shell.execute_reply": "2021-10-29T12:06:56.857114Z",
     "shell.execute_reply.started": "2021-10-29T12:02:14.225693Z"
    },
    "papermill": {
     "duration": 0.753516,
     "end_time": "2021-10-29T12:06:56.858053",
     "exception": false,
     "start_time": "2021-10-29T12:06:56.104537",
     "status": "completed"
    },
    "tags": []
   },
   "outputs": [
    {
     "name": "stdout",
     "output_type": "stream",
     "text": [
      "<class 'pandas.core.frame.DataFrame'>\n",
      "RangeIndex: 878049 entries, 0 to 878048\n",
      "Data columns (total 9 columns):\n",
      " #   Column      Non-Null Count   Dtype  \n",
      "---  ------      --------------   -----  \n",
      " 0   Dates       878049 non-null  object \n",
      " 1   Category    878049 non-null  object \n",
      " 2   Descript    878049 non-null  object \n",
      " 3   DayOfWeek   878049 non-null  object \n",
      " 4   PdDistrict  878049 non-null  object \n",
      " 5   Resolution  878049 non-null  object \n",
      " 6   Address     878049 non-null  object \n",
      " 7   X           878049 non-null  float64\n",
      " 8   Y           878049 non-null  float64\n",
      "dtypes: float64(2), object(7)\n",
      "memory usage: 60.3+ MB\n"
     ]
    },
    {
     "data": {
      "text/plain": [
       "(878049, 9)"
      ]
     },
     "execution_count": 4,
     "metadata": {},
     "output_type": "execute_result"
    }
   ],
   "source": [
    "train_data.info()\n",
    "train_data.shape"
   ]
  },
  {
   "cell_type": "code",
   "execution_count": 5,
   "id": "86017824",
   "metadata": {
    "execution": {
     "iopub.execute_input": "2021-10-29T12:06:56.966398Z",
     "iopub.status.busy": "2021-10-29T12:06:56.965705Z",
     "iopub.status.idle": "2021-10-29T12:06:57.367478Z",
     "shell.execute_reply": "2021-10-29T12:06:57.366949Z",
     "shell.execute_reply.started": "2021-10-29T12:02:14.920432Z"
    },
    "papermill": {
     "duration": 0.458502,
     "end_time": "2021-10-29T12:06:57.367627",
     "exception": false,
     "start_time": "2021-10-29T12:06:56.909125",
     "status": "completed"
    },
    "tags": []
   },
   "outputs": [
    {
     "name": "stdout",
     "output_type": "stream",
     "text": [
      "<class 'pandas.core.frame.DataFrame'>\n",
      "RangeIndex: 884262 entries, 0 to 884261\n",
      "Data columns (total 7 columns):\n",
      " #   Column      Non-Null Count   Dtype  \n",
      "---  ------      --------------   -----  \n",
      " 0   Id          884262 non-null  int64  \n",
      " 1   Dates       884262 non-null  object \n",
      " 2   DayOfWeek   884262 non-null  object \n",
      " 3   PdDistrict  884262 non-null  object \n",
      " 4   Address     884262 non-null  object \n",
      " 5   X           884262 non-null  float64\n",
      " 6   Y           884262 non-null  float64\n",
      "dtypes: float64(2), int64(1), object(4)\n",
      "memory usage: 47.2+ MB\n"
     ]
    },
    {
     "data": {
      "text/plain": [
       "(884262, 7)"
      ]
     },
     "execution_count": 5,
     "metadata": {},
     "output_type": "execute_result"
    }
   ],
   "source": [
    "test_data.info()\n",
    "test_data.shape"
   ]
  },
  {
   "cell_type": "code",
   "execution_count": 6,
   "id": "762cb3e5",
   "metadata": {
    "execution": {
     "iopub.execute_input": "2021-10-29T12:06:57.479141Z",
     "iopub.status.busy": "2021-10-29T12:06:57.478509Z",
     "iopub.status.idle": "2021-10-29T12:06:57.486736Z",
     "shell.execute_reply": "2021-10-29T12:06:57.487227Z",
     "shell.execute_reply.started": "2021-10-29T12:02:15.323714Z"
    },
    "papermill": {
     "duration": 0.068433,
     "end_time": "2021-10-29T12:06:57.487424",
     "exception": false,
     "start_time": "2021-10-29T12:06:57.418991",
     "status": "completed"
    },
    "tags": []
   },
   "outputs": [
    {
     "data": {
      "text/plain": [
       "<bound method NDFrame.describe of                       Dates                Category  \\\n",
       "0       2015-05-13 23:53:00                WARRANTS   \n",
       "1       2015-05-13 23:53:00          OTHER OFFENSES   \n",
       "2       2015-05-13 23:33:00          OTHER OFFENSES   \n",
       "3       2015-05-13 23:30:00           LARCENY/THEFT   \n",
       "4       2015-05-13 23:30:00           LARCENY/THEFT   \n",
       "...                     ...                     ...   \n",
       "878044  2003-01-06 00:15:00                 ROBBERY   \n",
       "878045  2003-01-06 00:01:00           LARCENY/THEFT   \n",
       "878046  2003-01-06 00:01:00           LARCENY/THEFT   \n",
       "878047  2003-01-06 00:01:00               VANDALISM   \n",
       "878048  2003-01-06 00:01:00  FORGERY/COUNTERFEITING   \n",
       "\n",
       "                                         Descript  DayOfWeek PdDistrict  \\\n",
       "0                                  WARRANT ARREST  Wednesday   NORTHERN   \n",
       "1                        TRAFFIC VIOLATION ARREST  Wednesday   NORTHERN   \n",
       "2                        TRAFFIC VIOLATION ARREST  Wednesday   NORTHERN   \n",
       "3                    GRAND THEFT FROM LOCKED AUTO  Wednesday   NORTHERN   \n",
       "4                    GRAND THEFT FROM LOCKED AUTO  Wednesday       PARK   \n",
       "...                                           ...        ...        ...   \n",
       "878044           ROBBERY ON THE STREET WITH A GUN     Monday    TARAVAL   \n",
       "878045               GRAND THEFT FROM LOCKED AUTO     Monday  INGLESIDE   \n",
       "878046               GRAND THEFT FROM LOCKED AUTO     Monday   SOUTHERN   \n",
       "878047  MALICIOUS MISCHIEF, VANDALISM OF VEHICLES     Monday   SOUTHERN   \n",
       "878048                   CHECKS, FORGERY (FELONY)     Monday    BAYVIEW   \n",
       "\n",
       "            Resolution                     Address           X          Y  \n",
       "0       ARREST, BOOKED          OAK ST / LAGUNA ST -122.425892  37.774599  \n",
       "1       ARREST, BOOKED          OAK ST / LAGUNA ST -122.425892  37.774599  \n",
       "2       ARREST, BOOKED   VANNESS AV / GREENWICH ST -122.424363  37.800414  \n",
       "3                 NONE    1500 Block of LOMBARD ST -122.426995  37.800873  \n",
       "4                 NONE   100 Block of BRODERICK ST -122.438738  37.771541  \n",
       "...                ...                         ...         ...        ...  \n",
       "878044            NONE  FARALLONES ST / CAPITOL AV -122.459033  37.714056  \n",
       "878045            NONE        600 Block of EDNA ST -122.447364  37.731948  \n",
       "878046            NONE          5TH ST / FOLSOM ST -122.403390  37.780266  \n",
       "878047            NONE        TOWNSEND ST / 2ND ST -122.390531  37.780607  \n",
       "878048            NONE    1800 Block of NEWCOMB AV -122.394926  37.738212  \n",
       "\n",
       "[878049 rows x 9 columns]>"
      ]
     },
     "execution_count": 6,
     "metadata": {},
     "output_type": "execute_result"
    }
   ],
   "source": [
    "train_data.describe"
   ]
  },
  {
   "cell_type": "code",
   "execution_count": 7,
   "id": "3766ddf6",
   "metadata": {
    "execution": {
     "iopub.execute_input": "2021-10-29T12:06:57.594894Z",
     "iopub.status.busy": "2021-10-29T12:06:57.594148Z",
     "iopub.status.idle": "2021-10-29T12:07:01.513846Z",
     "shell.execute_reply": "2021-10-29T12:07:01.513295Z",
     "shell.execute_reply.started": "2021-10-29T12:02:15.337715Z"
    },
    "papermill": {
     "duration": 3.97489,
     "end_time": "2021-10-29T12:07:01.513998",
     "exception": false,
     "start_time": "2021-10-29T12:06:57.539108",
     "status": "completed"
    },
    "tags": []
   },
   "outputs": [
    {
     "data": {
      "image/png": "[encoded data removed]",
      "text/plain": [
       "<Figure size 864x864 with 2 Axes>"
      ]
     },
     "metadata": {
      "needs_background": "light"
     },
     "output_type": "display_data"
    }
   ],
   "source": [
    "d = defaultdict(LabelEncoder)\n",
    "sf_encode = train_data.apply(lambda x: d[x.name].fit_transform(x))\n",
    "sf_encode = sf_encode.drop(['X', 'Y'], axis=1)\n",
    "\n",
    "corrmat = sf_encode.corr()\n",
    "f, ax = plt.subplots(figsize=(12, 12))\n",
    "plot2 =sns.heatmap(corrmat, vmax=.8);\n",
    "plt.xticks(rotation=90)\n",
    "plt.yticks(rotation=45)\n",
    "plot2.axes.set_title('Correlation Heat Map')\n",
    "plt.show()"
   ]
  },
  {
   "cell_type": "code",
   "execution_count": 8,
   "id": "0ffa87b9",
   "metadata": {
    "execution": {
     "iopub.execute_input": "2021-10-29T12:07:01.627771Z",
     "iopub.status.busy": "2021-10-29T12:07:01.627066Z",
     "iopub.status.idle": "2021-10-29T12:07:04.504926Z",
     "shell.execute_reply": "2021-10-29T12:07:04.505507Z",
     "shell.execute_reply.started": "2021-10-29T12:02:19.060771Z"
    },
    "papermill": {
     "duration": 2.937673,
     "end_time": "2021-10-29T12:07:04.505702",
     "exception": false,
     "start_time": "2021-10-29T12:07:01.568029",
     "status": "completed"
    },
    "tags": []
   },
   "outputs": [
    {
     "data": {
      "image/png": "[encoded data removed]",
      "text/plain": [
       "<Figure size 864x864 with 2 Axes>"
      ]
     },
     "metadata": {
      "needs_background": "light"
     },
     "output_type": "display_data"
    }
   ],
   "source": [
    "d = defaultdict(LabelEncoder)\n",
    "sf_encode = test_data.apply(lambda x: d[x.name].fit_transform(x))\n",
    "sf_encode = sf_encode.drop(['X', 'Y'], axis=1)\n",
    "\n",
    "corrmat = sf_encode.corr()\n",
    "f, ax = plt.subplots(figsize=(12, 12))\n",
    "plot2 =sns.heatmap(corrmat, vmax=.8);\n",
    "plt.xticks(rotation=90)\n",
    "plt.yticks(rotation=45)\n",
    "plot2.axes.set_title('Correlation Heat Map')\n",
    "plt.show()"
   ]
  },
  {
   "cell_type": "code",
   "execution_count": 9,
   "id": "0fede2dc",
   "metadata": {
    "execution": {
     "iopub.execute_input": "2021-10-29T12:07:04.643298Z",
     "iopub.status.busy": "2021-10-29T12:07:04.642170Z",
     "iopub.status.idle": "2021-10-29T12:07:05.603863Z",
     "shell.execute_reply": "2021-10-29T12:07:05.604411Z",
     "shell.execute_reply.started": "2021-10-29T12:02:21.846151Z"
    },
    "papermill": {
     "duration": 1.043275,
     "end_time": "2021-10-29T12:07:05.604590",
     "exception": false,
     "start_time": "2021-10-29T12:07:04.561315",
     "status": "completed"
    },
    "tags": []
   },
   "outputs": [
    {
     "data": {
      "text/plain": [
       "[Text(0, 0, 'LARCENY/THEFT'),\n",
       " Text(1, 0, 'OTHER OFFENSES'),\n",
       " Text(2, 0, 'NON-CRIMINAL'),\n",
       " Text(3, 0, 'ASSAULT'),\n",
       " Text(4, 0, 'DRUG/NARCOTIC'),\n",
       " Text(5, 0, 'VEHICLE THEFT'),\n",
       " Text(6, 0, 'VANDALISM'),\n",
       " Text(7, 0, 'WARRANTS'),\n",
       " Text(8, 0, 'BURGLARY'),\n",
       " Text(9, 0, 'SUSPICIOUS OCC'),\n",
       " Text(10, 0, 'MISSING PERSON'),\n",
       " Text(11, 0, 'ROBBERY'),\n",
       " Text(12, 0, 'FRAUD'),\n",
       " Text(13, 0, 'FORGERY/COUNTERFEITING'),\n",
       " Text(14, 0, 'SECONDARY CODES'),\n",
       " Text(15, 0, 'WEAPON LAWS'),\n",
       " Text(16, 0, 'PROSTITUTION'),\n",
       " Text(17, 0, 'TRESPASS'),\n",
       " Text(18, 0, 'STOLEN PROPERTY'),\n",
       " Text(19, 0, 'SEX OFFENSES FORCIBLE'),\n",
       " Text(20, 0, 'DISORDERLY CONDUCT'),\n",
       " Text(21, 0, 'DRUNKENNESS'),\n",
       " Text(22, 0, 'RECOVERED VEHICLE'),\n",
       " Text(23, 0, 'KIDNAPPING'),\n",
       " Text(24, 0, 'DRIVING UNDER THE INFLUENCE'),\n",
       " Text(25, 0, 'RUNAWAY'),\n",
       " Text(26, 0, 'LIQUOR LAWS'),\n",
       " Text(27, 0, 'ARSON'),\n",
       " Text(28, 0, 'LOITERING'),\n",
       " Text(29, 0, 'EMBEZZLEMENT'),\n",
       " Text(30, 0, 'SUICIDE'),\n",
       " Text(31, 0, 'FAMILY OFFENSES'),\n",
       " Text(32, 0, 'BAD CHECKS'),\n",
       " Text(33, 0, 'BRIBERY'),\n",
       " Text(34, 0, 'EXTORTION'),\n",
       " Text(35, 0, 'SEX OFFENSES NON FORCIBLE'),\n",
       " Text(36, 0, 'GAMBLING'),\n",
       " Text(37, 0, 'PORNOGRAPHY/OBSCENE MAT'),\n",
       " Text(38, 0, 'TREA')]"
      ]
     },
     "execution_count": 9,
     "metadata": {},
     "output_type": "execute_result"
    },
    {
     "data": {
      "image/png": "[encoded data removed]",
      "text/plain": [
       "<Figure size 432x288 with 1 Axes>"
      ]
     },
     "metadata": {
      "needs_background": "light"
     },
     "output_type": "display_data"
    }
   ],
   "source": [
    "train_data.groupby(\"Category\")[\"Category\"].count().sort_values(ascending=False)\n",
    "number_of_crimes = train_data.Category.value_counts()\n",
    "_n_crime_plot = sns.barplot(x=number_of_crimes.index,y=number_of_crimes)\n",
    "_n_crime_plot.set_xticklabels(number_of_crimes.index,rotation=90)"
   ]
  },
  {
   "cell_type": "code",
   "execution_count": 10,
   "id": "df947830",
   "metadata": {
    "execution": {
     "iopub.execute_input": "2021-10-29T12:07:05.741217Z",
     "iopub.status.busy": "2021-10-29T12:07:05.740200Z",
     "iopub.status.idle": "2021-10-29T12:07:06.339114Z",
     "shell.execute_reply": "2021-10-29T12:07:06.338121Z",
     "shell.execute_reply.started": "2021-10-29T12:02:22.768512Z"
    },
    "papermill": {
     "duration": 0.678391,
     "end_time": "2021-10-29T12:07:06.339269",
     "exception": false,
     "start_time": "2021-10-29T12:07:05.660878",
     "status": "completed"
    },
    "tags": []
   },
   "outputs": [
    {
     "data": {
      "text/plain": [
       "[Text(0, 0, 'SOUTHERN'),\n",
       " Text(1, 0, 'MISSION'),\n",
       " Text(2, 0, 'NORTHERN'),\n",
       " Text(3, 0, 'BAYVIEW'),\n",
       " Text(4, 0, 'CENTRAL'),\n",
       " Text(5, 0, 'TENDERLOIN'),\n",
       " Text(6, 0, 'INGLESIDE'),\n",
       " Text(7, 0, 'TARAVAL'),\n",
       " Text(8, 0, 'PARK'),\n",
       " Text(9, 0, 'RICHMOND')]"
      ]
     },
     "execution_count": 10,
     "metadata": {},
     "output_type": "execute_result"
    },
    {
     "data": {
      "image/png": "[encoded data removed]",
      "text/plain": [
       "<Figure size 432x288 with 1 Axes>"
      ]
     },
     "metadata": {
      "needs_background": "light"
     },
     "output_type": "display_data"
    }
   ],
   "source": [
    "train_data.groupby(\"PdDistrict\")[\"PdDistrict\"].count().sort_values(ascending=False)\n",
    "most_dangerous_districts = train_data.PdDistrict.value_counts()\n",
    "_n_crime_plot = sns.barplot(x=most_dangerous_districts.index,y=most_dangerous_districts)\n",
    "_n_crime_plot.set_xticklabels(most_dangerous_districts.index,rotation=90)"
   ]
  },
  {
   "cell_type": "code",
   "execution_count": 11,
   "id": "ab3f5e2e",
   "metadata": {
    "execution": {
     "iopub.execute_input": "2021-10-29T12:07:06.459045Z",
     "iopub.status.busy": "2021-10-29T12:07:06.458056Z",
     "iopub.status.idle": "2021-10-29T12:07:07.078557Z",
     "shell.execute_reply": "2021-10-29T12:07:07.077879Z",
     "shell.execute_reply.started": "2021-10-29T12:02:23.339783Z"
    },
    "papermill": {
     "duration": 0.681774,
     "end_time": "2021-10-29T12:07:07.078782",
     "exception": false,
     "start_time": "2021-10-29T12:07:06.397008",
     "status": "completed"
    },
    "tags": []
   },
   "outputs": [
    {
     "data": {
      "text/plain": [
       "[Text(0, 0, 'SOUTHERN'),\n",
       " Text(1, 0, 'MISSION'),\n",
       " Text(2, 0, 'NORTHERN'),\n",
       " Text(3, 0, 'BAYVIEW'),\n",
       " Text(4, 0, 'CENTRAL'),\n",
       " Text(5, 0, 'TENDERLOIN'),\n",
       " Text(6, 0, 'INGLESIDE'),\n",
       " Text(7, 0, 'TARAVAL'),\n",
       " Text(8, 0, 'PARK'),\n",
       " Text(9, 0, 'RICHMOND')]"
      ]
     },
     "execution_count": 11,
     "metadata": {},
     "output_type": "execute_result"
    },
    {
     "data": {
      "image/png": "[encoded data removed]",
      "text/plain": [
       "<Figure size 432x288 with 1 Axes>"
      ]
     },
     "metadata": {
      "needs_background": "light"
     },
     "output_type": "display_data"
    }
   ],
   "source": [
    "test_data.groupby(\"PdDistrict\")[\"PdDistrict\"].count().sort_values(ascending=False)\n",
    "most_dangerous_districts = test_data.PdDistrict.value_counts()\n",
    "_n_crime_plot = sns.barplot(x=most_dangerous_districts.index,y=most_dangerous_districts)\n",
    "_n_crime_plot.set_xticklabels(most_dangerous_districts.index,rotation=90)"
   ]
  },
  {
   "cell_type": "code",
   "execution_count": 12,
   "id": "ef959bfe",
   "metadata": {
    "execution": {
     "iopub.execute_input": "2021-10-29T12:07:07.221202Z",
     "iopub.status.busy": "2021-10-29T12:07:07.220215Z",
     "iopub.status.idle": "2021-10-29T12:07:08.672692Z",
     "shell.execute_reply": "2021-10-29T12:07:08.672118Z",
     "shell.execute_reply.started": "2021-10-29T12:02:23.945702Z"
    },
    "papermill": {
     "duration": 1.534904,
     "end_time": "2021-10-29T12:07:08.672859",
     "exception": false,
     "start_time": "2021-10-29T12:07:07.137955",
     "status": "completed"
    },
    "tags": []
   },
   "outputs": [
    {
     "data": {
      "text/plain": [
       "Text(0.5, 1.0, 'Number of Crimes per District')"
      ]
     },
     "execution_count": 12,
     "metadata": {},
     "output_type": "execute_result"
    },
    {
     "data": {
      "image/png": "[encoded data removed]",
      "text/plain": [
       "<Figure size 432x288 with 2 Axes>"
      ]
     },
     "metadata": {
      "needs_background": "light"
     },
     "output_type": "display_data"
    }
   ],
   "source": [
    "pt = pd.pivot_table(train_data,index=\"PdDistrict\",columns=\"Category\",aggfunc=len,fill_value=0)[\"Dates\"]\n",
    "_ = pt.loc[most_dangerous_districts.index,number_of_crimes.index]\n",
    "ax = sns.heatmap(_)\n",
    "ax.set_title(\"Number of Crimes per District\")"
   ]
  },
  {
   "cell_type": "code",
   "execution_count": 13,
   "id": "7c3001ec",
   "metadata": {
    "execution": {
     "iopub.execute_input": "2021-10-29T12:07:08.854165Z",
     "iopub.status.busy": "2021-10-29T12:07:08.853281Z",
     "iopub.status.idle": "2021-10-29T12:07:10.043590Z",
     "shell.execute_reply": "2021-10-29T12:07:10.042445Z",
     "shell.execute_reply.started": "2021-10-29T12:02:25.309385Z"
    },
    "papermill": {
     "duration": 1.310652,
     "end_time": "2021-10-29T12:07:10.043760",
     "exception": false,
     "start_time": "2021-10-29T12:07:08.733108",
     "status": "completed"
    },
    "tags": []
   },
   "outputs": [],
   "source": [
    "train_data['Dates'] = train_data['Dates'].astype('datetime64[ns]')\n",
    "train_data['Hour']= train_data.Dates.dt.hour\n",
    "test_data['Dates'] = test_data['Dates'].astype('datetime64[ns]')\n"
   ]
  },
  {
   "cell_type": "code",
   "execution_count": 14,
   "id": "de80e2e3",
   "metadata": {
    "execution": {
     "iopub.execute_input": "2021-10-29T12:07:10.201590Z",
     "iopub.status.busy": "2021-10-29T12:07:10.200507Z",
     "iopub.status.idle": "2021-10-29T12:07:12.303438Z",
     "shell.execute_reply": "2021-10-29T12:07:12.303971Z",
     "shell.execute_reply.started": "2021-10-29T12:02:26.483871Z"
    },
    "papermill": {
     "duration": 2.198752,
     "end_time": "2021-10-29T12:07:12.304149",
     "exception": false,
     "start_time": "2021-10-29T12:07:10.105397",
     "status": "completed"
    },
    "tags": []
   },
   "outputs": [
    {
     "name": "stderr",
     "output_type": "stream",
     "text": [
      "/opt/conda/lib/python3.7/site-packages/ipykernel_launcher.py:47: MatplotlibDeprecationWarning: Passing the pad parameter of tight_layout() positionally is deprecated since Matplotlib 3.3; the parameter will become keyword-only two minor releases later.\n"
     ]
    },
    {
     "data": {
      "image/png": "[encoded data removed]",
      "text/plain": [
       "<Figure size 1008x576 with 7 Axes>"
      ]
     },
     "metadata": {},
     "output_type": "display_data"
    }
   ],
   "source": [
    "pylab.rcParams['figure.figsize'] = (14.0, 8.0)\n",
    "\n",
    "larceny = train_data[train_data['Category'] == \"LARCENY/THEFT\"]\n",
    "assault = train_data[train_data['Category'] == \"ASSAULT\"]\n",
    "drug = train_data[train_data['Category'] == \"DRUG/NARCOTIC\"]\n",
    "vehicle = train_data[train_data['Category'] == \"VEHICLE THEFT\"]\n",
    "vandalism = train_data[train_data['Category'] == \"VANDALISM\"]\n",
    "burglary = train_data[train_data['Category'] == \"BURGLARY\"]\n",
    "\n",
    "with plt.style.context('fivethirtyeight'):\n",
    "    ax1 = plt.subplot2grid((3,3), (0,0), colspan=3)\n",
    "    ax1.plot(train_data.groupby('Hour').size(), 'ro-')\n",
    "    ax1.set_title ('All crimes')\n",
    "    start, end = ax1.get_xlim()\n",
    "    ax1.xaxis.set_ticks(np.arange(start, end, 1))\n",
    "    \n",
    "    ax2 = plt.subplot2grid((3,3), (1, 0))\n",
    "    ax2.plot(larceny.groupby('Hour').size(), 'o-')\n",
    "    ax2.set_title ('Larceny/Theft')\n",
    "    \n",
    "    ax3 = plt.subplot2grid((3,3), (1, 1))\n",
    "    ax3.plot(assault.groupby('Hour').size(), 'o-')\n",
    "    ax3.set_title ('Assault')\n",
    "    \n",
    "    ax4 = plt.subplot2grid((3,3), (1, 2))\n",
    "    ax4.plot(drug.groupby('Hour').size(), 'o-')\n",
    "    ax4.set_title ('Drug/Narcotic')\n",
    "    \n",
    "    ax5 = plt.subplot2grid((3,3), (2, 0))\n",
    "    ax5.plot(vehicle.groupby('Hour').size(), 'o-')\n",
    "    ax5.set_title ('Vehicle')\n",
    "    \n",
    "    ax6 = plt.subplot2grid((3,3), (2, 1))\n",
    "    ax6.plot(vandalism.groupby('Hour').size(), 'o-')\n",
    "    ax6.set_title ('Vandalism')\n",
    "    \n",
    "    ax7 = plt.subplot2grid((3,3), (2, 2))\n",
    "    ax7.plot(burglary.groupby('Hour').size(), 'o-')\n",
    "    ax7.set_title ('Burglary')\n",
    "  \n",
    "    pylab.gcf().text(0.5, 1.03, \n",
    "                     'San Franciso Crime Occurence by Hour',\n",
    "                     horizontalalignment='center',\n",
    "                     verticalalignment='top', \n",
    "                     fontsize = 28)\n",
    "    \n",
    "plt.tight_layout(2)\n",
    "plt.show()"
   ]
  },
  {
   "cell_type": "code",
   "execution_count": 15,
   "id": "dd21baa4",
   "metadata": {
    "execution": {
     "iopub.execute_input": "2021-10-29T12:07:12.438673Z",
     "iopub.status.busy": "2021-10-29T12:07:12.438002Z",
     "iopub.status.idle": "2021-10-29T12:07:12.793147Z",
     "shell.execute_reply": "2021-10-29T12:07:12.793735Z",
     "shell.execute_reply.started": "2021-10-29T12:02:28.510249Z"
    },
    "papermill": {
     "duration": 0.42479,
     "end_time": "2021-10-29T12:07:12.793926",
     "exception": false,
     "start_time": "2021-10-29T12:07:12.369136",
     "status": "completed"
    },
    "tags": []
   },
   "outputs": [],
   "source": [
    "train_data['Dates'] = train_data['Dates'].astype('datetime64[ns]')\n",
    "train_data['Month']= train_data.Dates.dt.month\n",
    "train_data['Year']= train_data.Dates.dt.year\n",
    "test_data['Dates'] = test_data['Dates'].astype('datetime64[ns]')\n",
    "test_data['Month']= test_data.Dates.dt.month\n",
    "test_data['Year']= test_data.Dates.dt.year"
   ]
  },
  {
   "cell_type": "code",
   "execution_count": 16,
   "id": "c8073262",
   "metadata": {
    "execution": {
     "iopub.execute_input": "2021-10-29T12:07:12.932885Z",
     "iopub.status.busy": "2021-10-29T12:07:12.932184Z",
     "iopub.status.idle": "2021-10-29T12:07:13.254393Z",
     "shell.execute_reply": "2021-10-29T12:07:13.254910Z",
     "shell.execute_reply.started": "2021-10-29T12:02:28.863176Z"
    },
    "papermill": {
     "duration": 0.396446,
     "end_time": "2021-10-29T12:07:13.255081",
     "exception": false,
     "start_time": "2021-10-29T12:07:12.858635",
     "status": "completed"
    },
    "tags": []
   },
   "outputs": [
    {
     "data": {
      "image/png": "[encoded data removed]",
      "text/plain": [
       "<Figure size 1152x360 with 1 Axes>"
      ]
     },
     "metadata": {
      "needs_background": "light"
     },
     "output_type": "display_data"
    }
   ],
   "source": [
    "pylab.rcParams['figure.figsize'] = (16.0, 5.0)\n",
    "yearMonth = train_data.groupby(['Year','Month']).size()\n",
    "ax = yearMonth.plot(lw=2)\n",
    "plt.title('San Franciso Crimes Trend by Month&Year', fontsize=24)\n",
    "plt.show()"
   ]
  },
  {
   "cell_type": "code",
   "execution_count": 17,
   "id": "27a69577",
   "metadata": {
    "execution": {
     "iopub.execute_input": "2021-10-29T12:07:13.400910Z",
     "iopub.status.busy": "2021-10-29T12:07:13.400151Z",
     "iopub.status.idle": "2021-10-29T12:07:13.680821Z",
     "shell.execute_reply": "2021-10-29T12:07:13.679847Z",
     "shell.execute_reply.started": "2021-10-29T12:02:29.165909Z"
    },
    "papermill": {
     "duration": 0.356545,
     "end_time": "2021-10-29T12:07:13.680992",
     "exception": false,
     "start_time": "2021-10-29T12:07:13.324447",
     "status": "completed"
    },
    "tags": []
   },
   "outputs": [
    {
     "data": {
      "image/png": "[encoded data removed]",
      "text/plain": [
       "<Figure size 1152x360 with 1 Axes>"
      ]
     },
     "metadata": {
      "needs_background": "light"
     },
     "output_type": "display_data"
    }
   ],
   "source": [
    "pylab.rcParams['figure.figsize'] = (16.0, 5.0)\n",
    "yearMonth = test_data.groupby(['Year','Month']).size()\n",
    "ax = yearMonth.plot(lw=2)\n",
    "plt.title('San Franciso Crimes Trend by Month&Year', fontsize=24)\n",
    "plt.show()"
   ]
  },
  {
   "cell_type": "code",
   "execution_count": 18,
   "id": "0932fc95",
   "metadata": {
    "execution": {
     "iopub.execute_input": "2021-10-29T12:07:14.136707Z",
     "iopub.status.busy": "2021-10-29T12:07:14.118992Z",
     "iopub.status.idle": "2021-10-29T12:07:14.388281Z",
     "shell.execute_reply": "2021-10-29T12:07:14.387558Z",
     "shell.execute_reply.started": "2021-10-29T12:02:29.443362Z"
    },
    "papermill": {
     "duration": 0.6374,
     "end_time": "2021-10-29T12:07:14.388465",
     "exception": false,
     "start_time": "2021-10-29T12:07:13.751065",
     "status": "completed"
    },
    "tags": []
   },
   "outputs": [
    {
     "data": {
      "text/plain": [
       "[Text(0, 0, 'Friday'),\n",
       " Text(1, 0, 'Wednesday'),\n",
       " Text(2, 0, 'Saturday'),\n",
       " Text(3, 0, 'Thursday'),\n",
       " Text(4, 0, 'Tuesday'),\n",
       " Text(5, 0, 'Monday'),\n",
       " Text(6, 0, 'Sunday')]"
      ]
     },
     "execution_count": 18,
     "metadata": {},
     "output_type": "execute_result"
    },
    {
     "data": {
      "image/png": "[encoded data removed]",
      "text/plain": [
       "<Figure size 1152x360 with 1 Axes>"
      ]
     },
     "metadata": {
      "needs_background": "light"
     },
     "output_type": "display_data"
    }
   ],
   "source": [
    "Days = train_data.DayOfWeek.value_counts()\n",
    "Day_plot = sns.barplot(x=Days.index,y=Days)\n",
    "Day_plot.set_xticklabels(Days.index,rotation=90)"
   ]
  },
  {
   "cell_type": "code",
   "execution_count": 19,
   "id": "d39be6ea",
   "metadata": {
    "execution": {
     "iopub.execute_input": "2021-10-29T12:07:14.673793Z",
     "iopub.status.busy": "2021-10-29T12:07:14.672848Z",
     "iopub.status.idle": "2021-10-29T12:07:14.948735Z",
     "shell.execute_reply": "2021-10-29T12:07:14.947903Z",
     "shell.execute_reply.started": "2021-10-29T12:02:29.982150Z"
    },
    "papermill": {
     "duration": 0.487394,
     "end_time": "2021-10-29T12:07:14.948898",
     "exception": false,
     "start_time": "2021-10-29T12:07:14.461504",
     "status": "completed"
    },
    "tags": []
   },
   "outputs": [
    {
     "data": {
      "text/plain": [
       "[Text(0, 0, 'Friday'),\n",
       " Text(1, 0, 'Wednesday'),\n",
       " Text(2, 0, 'Saturday'),\n",
       " Text(3, 0, 'Tuesday'),\n",
       " Text(4, 0, 'Thursday'),\n",
       " Text(5, 0, 'Monday'),\n",
       " Text(6, 0, 'Sunday')]"
      ]
     },
     "execution_count": 19,
     "metadata": {},
     "output_type": "execute_result"
    },
    {
     "data": {
      "image/png": "[encoded data removed]",
      "text/plain": [
       "<Figure size 1152x360 with 1 Axes>"
      ]
     },
     "metadata": {
      "needs_background": "light"
     },
     "output_type": "display_data"
    }
   ],
   "source": [
    "test_Days = test_data.DayOfWeek.value_counts()\n",
    "test_Day_plot = sns.barplot(x=test_Days.index,y=test_Days)\n",
    "test_Day_plot.set_xticklabels(test_Days.index,rotation=90)"
   ]
  },
  {
   "cell_type": "code",
   "execution_count": 20,
   "id": "e71819c6",
   "metadata": {
    "execution": {
     "iopub.execute_input": "2021-10-29T12:07:15.166319Z",
     "iopub.status.busy": "2021-10-29T12:07:15.100915Z",
     "iopub.status.idle": "2021-10-29T12:07:16.821115Z",
     "shell.execute_reply": "2021-10-29T12:07:16.821782Z",
     "shell.execute_reply.started": "2021-10-29T12:02:30.385332Z"
    },
    "papermill": {
     "duration": 1.801429,
     "end_time": "2021-10-29T12:07:16.821970",
     "exception": false,
     "start_time": "2021-10-29T12:07:15.020541",
     "status": "completed"
    },
    "tags": []
   },
   "outputs": [
    {
     "name": "stderr",
     "output_type": "stream",
     "text": [
      "/opt/conda/lib/python3.7/site-packages/ipykernel_launcher.py:1: FutureWarning: Treating datetime data as categorical rather than numeric in `.describe` is deprecated and will be removed in a future version of pandas. Specify `datetime_is_numeric=True` to silence this warning and adopt the future behavior now.\n",
      "  \"\"\"Entry point for launching an IPython kernel.\n"
     ]
    },
    {
     "data": {
      "text/html": [
       "<div>\n",
       "<style scoped>\n",
       "    .dataframe tbody tr th:only-of-type {\n",
       "        vertical-align: middle;\n",
       "    }\n",
       "\n",
       "    .dataframe tbody tr th {\n",
       "        vertical-align: top;\n",
       "    }\n",
       "\n",
       "    .dataframe thead th {\n",
       "        text-align: right;\n",
       "    }\n",
       "</style>\n",
       "<table border=\"1\" class=\"dataframe\">\n",
       "  <thead>\n",
       "    <tr style=\"text-align: right;\">\n",
       "      <th></th>\n",
       "      <th>Dates</th>\n",
       "      <th>Category</th>\n",
       "      <th>Descript</th>\n",
       "      <th>DayOfWeek</th>\n",
       "      <th>PdDistrict</th>\n",
       "      <th>Resolution</th>\n",
       "      <th>Address</th>\n",
       "      <th>X</th>\n",
       "      <th>Y</th>\n",
       "      <th>Hour</th>\n",
       "      <th>Month</th>\n",
       "      <th>Year</th>\n",
       "    </tr>\n",
       "  </thead>\n",
       "  <tbody>\n",
       "    <tr>\n",
       "      <th>count</th>\n",
       "      <td>878049</td>\n",
       "      <td>878049</td>\n",
       "      <td>878049</td>\n",
       "      <td>878049</td>\n",
       "      <td>878049</td>\n",
       "      <td>878049</td>\n",
       "      <td>878049</td>\n",
       "      <td>878049.000000</td>\n",
       "      <td>878049.000000</td>\n",
       "      <td>878049.000000</td>\n",
       "      <td>878049.000000</td>\n",
       "      <td>878049.000000</td>\n",
       "    </tr>\n",
       "    <tr>\n",
       "      <th>unique</th>\n",
       "      <td>389257</td>\n",
       "      <td>39</td>\n",
       "      <td>879</td>\n",
       "      <td>7</td>\n",
       "      <td>10</td>\n",
       "      <td>17</td>\n",
       "      <td>23228</td>\n",
       "      <td>NaN</td>\n",
       "      <td>NaN</td>\n",
       "      <td>NaN</td>\n",
       "      <td>NaN</td>\n",
       "      <td>NaN</td>\n",
       "    </tr>\n",
       "    <tr>\n",
       "      <th>top</th>\n",
       "      <td>2011-01-01 00:01:00</td>\n",
       "      <td>LARCENY/THEFT</td>\n",
       "      <td>GRAND THEFT FROM LOCKED AUTO</td>\n",
       "      <td>Friday</td>\n",
       "      <td>SOUTHERN</td>\n",
       "      <td>NONE</td>\n",
       "      <td>800 Block of BRYANT ST</td>\n",
       "      <td>NaN</td>\n",
       "      <td>NaN</td>\n",
       "      <td>NaN</td>\n",
       "      <td>NaN</td>\n",
       "      <td>NaN</td>\n",
       "    </tr>\n",
       "    <tr>\n",
       "      <th>freq</th>\n",
       "      <td>185</td>\n",
       "      <td>174900</td>\n",
       "      <td>60022</td>\n",
       "      <td>133734</td>\n",
       "      <td>157182</td>\n",
       "      <td>526790</td>\n",
       "      <td>26533</td>\n",
       "      <td>NaN</td>\n",
       "      <td>NaN</td>\n",
       "      <td>NaN</td>\n",
       "      <td>NaN</td>\n",
       "      <td>NaN</td>\n",
       "    </tr>\n",
       "    <tr>\n",
       "      <th>first</th>\n",
       "      <td>2003-01-06 00:01:00</td>\n",
       "      <td>NaN</td>\n",
       "      <td>NaN</td>\n",
       "      <td>NaN</td>\n",
       "      <td>NaN</td>\n",
       "      <td>NaN</td>\n",
       "      <td>NaN</td>\n",
       "      <td>NaN</td>\n",
       "      <td>NaN</td>\n",
       "      <td>NaN</td>\n",
       "      <td>NaN</td>\n",
       "      <td>NaN</td>\n",
       "    </tr>\n",
       "    <tr>\n",
       "      <th>last</th>\n",
       "      <td>2015-05-13 23:53:00</td>\n",
       "      <td>NaN</td>\n",
       "      <td>NaN</td>\n",
       "      <td>NaN</td>\n",
       "      <td>NaN</td>\n",
       "      <td>NaN</td>\n",
       "      <td>NaN</td>\n",
       "      <td>NaN</td>\n",
       "      <td>NaN</td>\n",
       "      <td>NaN</td>\n",
       "      <td>NaN</td>\n",
       "      <td>NaN</td>\n",
       "    </tr>\n",
       "    <tr>\n",
       "      <th>mean</th>\n",
       "      <td>NaN</td>\n",
       "      <td>NaN</td>\n",
       "      <td>NaN</td>\n",
       "      <td>NaN</td>\n",
       "      <td>NaN</td>\n",
       "      <td>NaN</td>\n",
       "      <td>NaN</td>\n",
       "      <td>-122.422616</td>\n",
       "      <td>37.771020</td>\n",
       "      <td>13.412655</td>\n",
       "      <td>6.436509</td>\n",
       "      <td>2008.712046</td>\n",
       "    </tr>\n",
       "    <tr>\n",
       "      <th>std</th>\n",
       "      <td>NaN</td>\n",
       "      <td>NaN</td>\n",
       "      <td>NaN</td>\n",
       "      <td>NaN</td>\n",
       "      <td>NaN</td>\n",
       "      <td>NaN</td>\n",
       "      <td>NaN</td>\n",
       "      <td>0.030354</td>\n",
       "      <td>0.456893</td>\n",
       "      <td>6.549573</td>\n",
       "      <td>3.428972</td>\n",
       "      <td>3.631194</td>\n",
       "    </tr>\n",
       "    <tr>\n",
       "      <th>min</th>\n",
       "      <td>NaN</td>\n",
       "      <td>NaN</td>\n",
       "      <td>NaN</td>\n",
       "      <td>NaN</td>\n",
       "      <td>NaN</td>\n",
       "      <td>NaN</td>\n",
       "      <td>NaN</td>\n",
       "      <td>-122.513642</td>\n",
       "      <td>37.707879</td>\n",
       "      <td>0.000000</td>\n",
       "      <td>1.000000</td>\n",
       "      <td>2003.000000</td>\n",
       "    </tr>\n",
       "    <tr>\n",
       "      <th>25%</th>\n",
       "      <td>NaN</td>\n",
       "      <td>NaN</td>\n",
       "      <td>NaN</td>\n",
       "      <td>NaN</td>\n",
       "      <td>NaN</td>\n",
       "      <td>NaN</td>\n",
       "      <td>NaN</td>\n",
       "      <td>-122.432952</td>\n",
       "      <td>37.752427</td>\n",
       "      <td>9.000000</td>\n",
       "      <td>3.000000</td>\n",
       "      <td>2006.000000</td>\n",
       "    </tr>\n",
       "    <tr>\n",
       "      <th>50%</th>\n",
       "      <td>NaN</td>\n",
       "      <td>NaN</td>\n",
       "      <td>NaN</td>\n",
       "      <td>NaN</td>\n",
       "      <td>NaN</td>\n",
       "      <td>NaN</td>\n",
       "      <td>NaN</td>\n",
       "      <td>-122.416420</td>\n",
       "      <td>37.775421</td>\n",
       "      <td>14.000000</td>\n",
       "      <td>6.000000</td>\n",
       "      <td>2009.000000</td>\n",
       "    </tr>\n",
       "    <tr>\n",
       "      <th>75%</th>\n",
       "      <td>NaN</td>\n",
       "      <td>NaN</td>\n",
       "      <td>NaN</td>\n",
       "      <td>NaN</td>\n",
       "      <td>NaN</td>\n",
       "      <td>NaN</td>\n",
       "      <td>NaN</td>\n",
       "      <td>-122.406959</td>\n",
       "      <td>37.784369</td>\n",
       "      <td>19.000000</td>\n",
       "      <td>9.000000</td>\n",
       "      <td>2012.000000</td>\n",
       "    </tr>\n",
       "    <tr>\n",
       "      <th>max</th>\n",
       "      <td>NaN</td>\n",
       "      <td>NaN</td>\n",
       "      <td>NaN</td>\n",
       "      <td>NaN</td>\n",
       "      <td>NaN</td>\n",
       "      <td>NaN</td>\n",
       "      <td>NaN</td>\n",
       "      <td>-120.500000</td>\n",
       "      <td>90.000000</td>\n",
       "      <td>23.000000</td>\n",
       "      <td>12.000000</td>\n",
       "      <td>2015.000000</td>\n",
       "    </tr>\n",
       "  </tbody>\n",
       "</table>\n",
       "</div>"
      ],
      "text/plain": [
       "                      Dates       Category                      Descript  \\\n",
       "count                878049         878049                        878049   \n",
       "unique               389257             39                           879   \n",
       "top     2011-01-01 00:01:00  LARCENY/THEFT  GRAND THEFT FROM LOCKED AUTO   \n",
       "freq                    185         174900                         60022   \n",
       "first   2003-01-06 00:01:00            NaN                           NaN   \n",
       "last    2015-05-13 23:53:00            NaN                           NaN   \n",
       "mean                    NaN            NaN                           NaN   \n",
       "std                     NaN            NaN                           NaN   \n",
       "min                     NaN            NaN                           NaN   \n",
       "25%                     NaN            NaN                           NaN   \n",
       "50%                     NaN            NaN                           NaN   \n",
       "75%                     NaN            NaN                           NaN   \n",
       "max                     NaN            NaN                           NaN   \n",
       "\n",
       "       DayOfWeek PdDistrict Resolution                 Address              X  \\\n",
       "count     878049     878049     878049                  878049  878049.000000   \n",
       "unique         7         10         17                   23228            NaN   \n",
       "top       Friday   SOUTHERN       NONE  800 Block of BRYANT ST            NaN   \n",
       "freq      133734     157182     526790                   26533            NaN   \n",
       "first        NaN        NaN        NaN                     NaN            NaN   \n",
       "last         NaN        NaN        NaN                     NaN            NaN   \n",
       "mean         NaN        NaN        NaN                     NaN    -122.422616   \n",
       "std          NaN        NaN        NaN                     NaN       0.030354   \n",
       "min          NaN        NaN        NaN                     NaN    -122.513642   \n",
       "25%          NaN        NaN        NaN                     NaN    -122.432952   \n",
       "50%          NaN        NaN        NaN                     NaN    -122.416420   \n",
       "75%          NaN        NaN        NaN                     NaN    -122.406959   \n",
       "max          NaN        NaN        NaN                     NaN    -120.500000   \n",
       "\n",
       "                    Y           Hour          Month           Year  \n",
       "count   878049.000000  878049.000000  878049.000000  878049.000000  \n",
       "unique            NaN            NaN            NaN            NaN  \n",
       "top               NaN            NaN            NaN            NaN  \n",
       "freq              NaN            NaN            NaN            NaN  \n",
       "first             NaN            NaN            NaN            NaN  \n",
       "last              NaN            NaN            NaN            NaN  \n",
       "mean        37.771020      13.412655       6.436509    2008.712046  \n",
       "std          0.456893       6.549573       3.428972       3.631194  \n",
       "min         37.707879       0.000000       1.000000    2003.000000  \n",
       "25%         37.752427       9.000000       3.000000    2006.000000  \n",
       "50%         37.775421      14.000000       6.000000    2009.000000  \n",
       "75%         37.784369      19.000000       9.000000    2012.000000  \n",
       "max         90.000000      23.000000      12.000000    2015.000000  "
      ]
     },
     "execution_count": 20,
     "metadata": {},
     "output_type": "execute_result"
    }
   ],
   "source": [
    "train_data.describe(include='all')"
   ]
  },
  {
   "cell_type": "code",
   "execution_count": 21,
   "id": "4424a5e4",
   "metadata": {
    "execution": {
     "iopub.execute_input": "2021-10-29T12:07:16.973384Z",
     "iopub.status.busy": "2021-10-29T12:07:16.972217Z",
     "iopub.status.idle": "2021-10-29T12:07:17.555809Z",
     "shell.execute_reply": "2021-10-29T12:07:17.556285Z",
     "shell.execute_reply.started": "2021-10-29T12:02:32.089616Z"
    },
    "papermill": {
     "duration": 0.661598,
     "end_time": "2021-10-29T12:07:17.556495",
     "exception": false,
     "start_time": "2021-10-29T12:07:16.894897",
     "status": "completed"
    },
    "tags": []
   },
   "outputs": [
    {
     "data": {
      "text/plain": [
       "Dates         0\n",
       "Category      0\n",
       "Descript      0\n",
       "DayOfWeek     0\n",
       "PdDistrict    0\n",
       "Resolution    0\n",
       "Address       0\n",
       "X             0\n",
       "Y             0\n",
       "Hour          0\n",
       "Month         0\n",
       "Year          0\n",
       "dtype: int64"
      ]
     },
     "execution_count": 21,
     "metadata": {},
     "output_type": "execute_result"
    }
   ],
   "source": [
    "#checking that there are no nulls\n",
    "train_data.isnull().sum()"
   ]
  },
  {
   "cell_type": "code",
   "execution_count": 22,
   "id": "0a4d87ce",
   "metadata": {
    "execution": {
     "iopub.execute_input": "2021-10-29T12:07:17.708071Z",
     "iopub.status.busy": "2021-10-29T12:07:17.707188Z",
     "iopub.status.idle": "2021-10-29T12:07:18.012051Z",
     "shell.execute_reply": "2021-10-29T12:07:18.011396Z",
     "shell.execute_reply.started": "2021-10-29T12:02:32.669669Z"
    },
    "papermill": {
     "duration": 0.383436,
     "end_time": "2021-10-29T12:07:18.012194",
     "exception": false,
     "start_time": "2021-10-29T12:07:17.628758",
     "status": "completed"
    },
    "tags": []
   },
   "outputs": [
    {
     "data": {
      "text/plain": [
       "Id            0\n",
       "Dates         0\n",
       "DayOfWeek     0\n",
       "PdDistrict    0\n",
       "Address       0\n",
       "X             0\n",
       "Y             0\n",
       "Month         0\n",
       "Year          0\n",
       "dtype: int64"
      ]
     },
     "execution_count": 22,
     "metadata": {},
     "output_type": "execute_result"
    }
   ],
   "source": [
    "test_data.isnull().sum()"
   ]
  },
  {
   "cell_type": "code",
   "execution_count": 23,
   "id": "5c606df5",
   "metadata": {
    "execution": {
     "iopub.execute_input": "2021-10-29T12:07:18.164227Z",
     "iopub.status.busy": "2021-10-29T12:07:18.163537Z",
     "iopub.status.idle": "2021-10-29T12:07:18.254622Z",
     "shell.execute_reply": "2021-10-29T12:07:18.255072Z",
     "shell.execute_reply.started": "2021-10-29T12:02:32.978001Z"
    },
    "papermill": {
     "duration": 0.166997,
     "end_time": "2021-10-29T12:07:18.255248",
     "exception": false,
     "start_time": "2021-10-29T12:07:18.088251",
     "status": "completed"
    },
    "tags": []
   },
   "outputs": [
    {
     "data": {
      "text/plain": [
       "array(['WARRANTS', 'OTHER OFFENSES', 'LARCENY/THEFT', 'VEHICLE THEFT',\n",
       "       'VANDALISM', 'NON-CRIMINAL', 'ROBBERY', 'ASSAULT', 'WEAPON LAWS',\n",
       "       'BURGLARY', 'SUSPICIOUS OCC', 'DRUNKENNESS',\n",
       "       'FORGERY/COUNTERFEITING', 'DRUG/NARCOTIC', 'STOLEN PROPERTY',\n",
       "       'SECONDARY CODES', 'TRESPASS', 'MISSING PERSON', 'FRAUD',\n",
       "       'KIDNAPPING', 'RUNAWAY', 'DRIVING UNDER THE INFLUENCE',\n",
       "       'SEX OFFENSES FORCIBLE', 'PROSTITUTION', 'DISORDERLY CONDUCT',\n",
       "       'ARSON', 'FAMILY OFFENSES', 'LIQUOR LAWS', 'BRIBERY',\n",
       "       'EMBEZZLEMENT', 'SUICIDE', 'LOITERING',\n",
       "       'SEX OFFENSES NON FORCIBLE', 'EXTORTION', 'GAMBLING', 'BAD CHECKS',\n",
       "       'TREA', 'RECOVERED VEHICLE', 'PORNOGRAPHY/OBSCENE MAT'],\n",
       "      dtype=object)"
      ]
     },
     "execution_count": 23,
     "metadata": {},
     "output_type": "execute_result"
    }
   ],
   "source": [
    "#checking for unique values per column\n",
    "train_data.Category.unique()"
   ]
  },
  {
   "cell_type": "code",
   "execution_count": 24,
   "id": "b19be8f4",
   "metadata": {
    "execution": {
     "iopub.execute_input": "2021-10-29T12:07:18.405752Z",
     "iopub.status.busy": "2021-10-29T12:07:18.404947Z",
     "iopub.status.idle": "2021-10-29T12:07:18.488100Z",
     "shell.execute_reply": "2021-10-29T12:07:18.487447Z",
     "shell.execute_reply.started": "2021-10-29T12:02:33.073786Z"
    },
    "papermill": {
     "duration": 0.159716,
     "end_time": "2021-10-29T12:07:18.488248",
     "exception": false,
     "start_time": "2021-10-29T12:07:18.328532",
     "status": "completed"
    },
    "tags": []
   },
   "outputs": [
    {
     "data": {
      "text/plain": [
       "array(['NORTHERN', 'PARK', 'INGLESIDE', 'BAYVIEW', 'RICHMOND', 'CENTRAL',\n",
       "       'TARAVAL', 'TENDERLOIN', 'MISSION', 'SOUTHERN'], dtype=object)"
      ]
     },
     "execution_count": 24,
     "metadata": {},
     "output_type": "execute_result"
    }
   ],
   "source": [
    "train_data.PdDistrict.unique()\n"
   ]
  },
  {
   "cell_type": "code",
   "execution_count": 25,
   "id": "24d46775",
   "metadata": {
    "execution": {
     "iopub.execute_input": "2021-10-29T12:07:18.697651Z",
     "iopub.status.busy": "2021-10-29T12:07:18.660036Z",
     "iopub.status.idle": "2021-10-29T12:07:18.724308Z",
     "shell.execute_reply": "2021-10-29T12:07:18.724831Z",
     "shell.execute_reply.started": "2021-10-29T12:02:33.163125Z"
    },
    "papermill": {
     "duration": 0.161947,
     "end_time": "2021-10-29T12:07:18.725005",
     "exception": false,
     "start_time": "2021-10-29T12:07:18.563058",
     "status": "completed"
    },
    "tags": []
   },
   "outputs": [
    {
     "data": {
      "text/plain": [
       "array(['ARREST, BOOKED', 'NONE', 'ARREST, CITED', 'PSYCHOPATHIC CASE',\n",
       "       'JUVENILE BOOKED', 'UNFOUNDED', 'EXCEPTIONAL CLEARANCE', 'LOCATED',\n",
       "       'CLEARED-CONTACT JUVENILE FOR MORE INFO', 'NOT PROSECUTED',\n",
       "       'JUVENILE DIVERTED', 'COMPLAINANT REFUSES TO PROSECUTE',\n",
       "       'JUVENILE ADMONISHED', 'JUVENILE CITED',\n",
       "       'DISTRICT ATTORNEY REFUSES TO PROSECUTE',\n",
       "       'PROSECUTED BY OUTSIDE AGENCY', 'PROSECUTED FOR LESSER OFFENSE'],\n",
       "      dtype=object)"
      ]
     },
     "execution_count": 25,
     "metadata": {},
     "output_type": "execute_result"
    }
   ],
   "source": [
    "train_data.Resolution.unique()\n"
   ]
  },
  {
   "cell_type": "code",
   "execution_count": 26,
   "id": "f29d2213",
   "metadata": {
    "execution": {
     "iopub.execute_input": "2021-10-29T12:07:18.936864Z",
     "iopub.status.busy": "2021-10-29T12:07:18.936084Z",
     "iopub.status.idle": "2021-10-29T12:07:19.029952Z",
     "shell.execute_reply": "2021-10-29T12:07:19.029174Z",
     "shell.execute_reply.started": "2021-10-29T12:02:33.248334Z"
    },
    "papermill": {
     "duration": 0.231683,
     "end_time": "2021-10-29T12:07:19.030115",
     "exception": false,
     "start_time": "2021-10-29T12:07:18.798432",
     "status": "completed"
    },
    "tags": []
   },
   "outputs": [
    {
     "data": {
      "text/plain": [
       "array(['OAK ST / LAGUNA ST', 'VANNESS AV / GREENWICH ST',\n",
       "       '1500 Block of LOMBARD ST', ..., '300 Block of JOHN F KENNEDY DR',\n",
       "       'FOLSOM ST / ZENO PL', '1000 Block of 22ND AV'], dtype=object)"
      ]
     },
     "execution_count": 26,
     "metadata": {},
     "output_type": "execute_result"
    }
   ],
   "source": [
    "train_data.Address.unique()\n"
   ]
  },
  {
   "cell_type": "code",
   "execution_count": 27,
   "id": "3419021c",
   "metadata": {
    "execution": {
     "iopub.execute_input": "2021-10-29T12:07:19.190683Z",
     "iopub.status.busy": "2021-10-29T12:07:19.189970Z",
     "iopub.status.idle": "2021-10-29T12:07:19.214147Z",
     "shell.execute_reply": "2021-10-29T12:07:19.214761Z",
     "shell.execute_reply.started": "2021-10-29T12:02:33.389551Z"
    },
    "papermill": {
     "duration": 0.106421,
     "end_time": "2021-10-29T12:07:19.214950",
     "exception": false,
     "start_time": "2021-10-29T12:07:19.108529",
     "status": "completed"
    },
    "tags": []
   },
   "outputs": [
    {
     "data": {
      "text/plain": [
       "array([-122.42589168, -122.42436302, -122.42699533, ..., -122.48124622,\n",
       "       -122.41850208, -122.39492572])"
      ]
     },
     "execution_count": 27,
     "metadata": {},
     "output_type": "execute_result"
    }
   ],
   "source": [
    "train_data.X.unique()\n"
   ]
  },
  {
   "cell_type": "code",
   "execution_count": 28,
   "id": "9587ee33",
   "metadata": {
    "execution": {
     "iopub.execute_input": "2021-10-29T12:07:19.371325Z",
     "iopub.status.busy": "2021-10-29T12:07:19.370164Z",
     "iopub.status.idle": "2021-10-29T12:07:19.394022Z",
     "shell.execute_reply": "2021-10-29T12:07:19.394756Z",
     "shell.execute_reply.started": "2021-10-29T12:02:33.421126Z"
    },
    "papermill": {
     "duration": 0.10345,
     "end_time": "2021-10-29T12:07:19.394952",
     "exception": false,
     "start_time": "2021-10-29T12:07:19.291502",
     "status": "completed"
    },
    "tags": []
   },
   "outputs": [
    {
     "data": {
      "text/plain": [
       "array([37.7745986 , 37.80041432, 37.80087263, ..., 37.77644744,\n",
       "       37.73394539, 37.73821154])"
      ]
     },
     "execution_count": 28,
     "metadata": {},
     "output_type": "execute_result"
    }
   ],
   "source": [
    "train_data.Y.unique()\n"
   ]
  },
  {
   "cell_type": "code",
   "execution_count": 29,
   "id": "a35a855d",
   "metadata": {
    "execution": {
     "iopub.execute_input": "2021-10-29T12:07:19.553553Z",
     "iopub.status.busy": "2021-10-29T12:07:19.552324Z",
     "iopub.status.idle": "2021-10-29T12:07:19.564796Z",
     "shell.execute_reply": "2021-10-29T12:07:19.565426Z",
     "shell.execute_reply.started": "2021-10-29T12:02:33.445573Z"
    },
    "papermill": {
     "duration": 0.095592,
     "end_time": "2021-10-29T12:07:19.565611",
     "exception": false,
     "start_time": "2021-10-29T12:07:19.470019",
     "status": "completed"
    },
    "tags": []
   },
   "outputs": [
    {
     "data": {
      "text/plain": [
       "array([23, 22, 21, 20, 19, 18, 17, 16, 15, 14, 13, 12, 11, 10,  9,  8,  7,\n",
       "        6,  5,  4,  3,  2,  1,  0])"
      ]
     },
     "execution_count": 29,
     "metadata": {},
     "output_type": "execute_result"
    }
   ],
   "source": [
    "train_data.Hour.unique()\n"
   ]
  },
  {
   "cell_type": "code",
   "execution_count": 30,
   "id": "afd261c4",
   "metadata": {
    "execution": {
     "iopub.execute_input": "2021-10-29T12:07:19.723928Z",
     "iopub.status.busy": "2021-10-29T12:07:19.722902Z",
     "iopub.status.idle": "2021-10-29T12:07:19.734524Z",
     "shell.execute_reply": "2021-10-29T12:07:19.735066Z",
     "shell.execute_reply.started": "2021-10-29T12:02:33.458010Z"
    },
    "papermill": {
     "duration": 0.092857,
     "end_time": "2021-10-29T12:07:19.735244",
     "exception": false,
     "start_time": "2021-10-29T12:07:19.642387",
     "status": "completed"
    },
    "tags": []
   },
   "outputs": [
    {
     "data": {
      "text/plain": [
       "array([ 5,  4,  3,  2,  1, 12, 11, 10,  9,  8,  7,  6])"
      ]
     },
     "execution_count": 30,
     "metadata": {},
     "output_type": "execute_result"
    }
   ],
   "source": [
    "train_data.Month.unique()\n"
   ]
  },
  {
   "cell_type": "code",
   "execution_count": 31,
   "id": "4c1bd3e5",
   "metadata": {
    "execution": {
     "iopub.execute_input": "2021-10-29T12:07:19.892582Z",
     "iopub.status.busy": "2021-10-29T12:07:19.891871Z",
     "iopub.status.idle": "2021-10-29T12:07:19.902902Z",
     "shell.execute_reply": "2021-10-29T12:07:19.903424Z",
     "shell.execute_reply.started": "2021-10-29T12:02:33.472831Z"
    },
    "papermill": {
     "duration": 0.0926,
     "end_time": "2021-10-29T12:07:19.903618",
     "exception": false,
     "start_time": "2021-10-29T12:07:19.811018",
     "status": "completed"
    },
    "tags": []
   },
   "outputs": [
    {
     "data": {
      "text/plain": [
       "array([2015, 2014, 2013, 2012, 2011, 2010, 2009, 2008, 2007, 2006, 2005,\n",
       "       2004, 2003])"
      ]
     },
     "execution_count": 31,
     "metadata": {},
     "output_type": "execute_result"
    }
   ],
   "source": [
    "train_data.Year.unique()\n",
    "#end of training columns,wont drop any"
   ]
  },
  {
   "cell_type": "code",
   "execution_count": 32,
   "id": "d34a59d4",
   "metadata": {
    "execution": {
     "iopub.execute_input": "2021-10-29T12:07:20.163970Z",
     "iopub.status.busy": "2021-10-29T12:07:20.162582Z",
     "iopub.status.idle": "2021-10-29T12:07:20.171436Z",
     "shell.execute_reply": "2021-10-29T12:07:20.170879Z",
     "shell.execute_reply.started": "2021-10-29T12:02:33.484476Z"
    },
    "papermill": {
     "duration": 0.189613,
     "end_time": "2021-10-29T12:07:20.171591",
     "exception": false,
     "start_time": "2021-10-29T12:07:19.981978",
     "status": "completed"
    },
    "tags": []
   },
   "outputs": [
    {
     "data": {
      "text/plain": [
       "0         False\n",
       "1         False\n",
       "2         False\n",
       "3         False\n",
       "4         False\n",
       "          ...  \n",
       "878044    False\n",
       "878045    False\n",
       "878046    False\n",
       "878047    False\n",
       "878048    False\n",
       "Name: Resolution, Length: 878049, dtype: bool"
      ]
     },
     "execution_count": 32,
     "metadata": {},
     "output_type": "execute_result"
    }
   ],
   "source": [
    "train_data.Resolution.isna()"
   ]
  },
  {
   "cell_type": "code",
   "execution_count": 33,
   "id": "b69cb808",
   "metadata": {
    "execution": {
     "iopub.execute_input": "2021-10-29T12:07:20.331894Z",
     "iopub.status.busy": "2021-10-29T12:07:20.331100Z",
     "iopub.status.idle": "2021-10-29T12:07:20.543845Z",
     "shell.execute_reply": "2021-10-29T12:07:20.544561Z",
     "shell.execute_reply.started": "2021-10-29T12:02:33.591329Z"
    },
    "papermill": {
     "duration": 0.293462,
     "end_time": "2021-10-29T12:07:20.544748",
     "exception": false,
     "start_time": "2021-10-29T12:07:20.251286",
     "status": "completed"
    },
    "tags": []
   },
   "outputs": [
    {
     "data": {
      "text/plain": [
       "<AxesSubplot:xlabel='Hour'>"
      ]
     },
     "execution_count": 33,
     "metadata": {},
     "output_type": "execute_result"
    },
    {
     "data": {
      "image/png": "[encoded data removed]",
      "text/plain": [
       "<Figure size 1152x360 with 1 Axes>"
      ]
     },
     "metadata": {
      "needs_background": "light"
     },
     "output_type": "display_data"
    }
   ],
   "source": [
    "sns.boxplot(data=train_data, x='Hour') #no outliers"
   ]
  },
  {
   "cell_type": "code",
   "execution_count": 34,
   "id": "6fd5035a",
   "metadata": {
    "execution": {
     "iopub.execute_input": "2021-10-29T12:07:20.708495Z",
     "iopub.status.busy": "2021-10-29T12:07:20.707695Z",
     "iopub.status.idle": "2021-10-29T12:07:20.944027Z",
     "shell.execute_reply": "2021-10-29T12:07:20.944521Z",
     "shell.execute_reply.started": "2021-10-29T12:02:33.808646Z"
    },
    "papermill": {
     "duration": 0.32055,
     "end_time": "2021-10-29T12:07:20.944717",
     "exception": false,
     "start_time": "2021-10-29T12:07:20.624167",
     "status": "completed"
    },
    "tags": []
   },
   "outputs": [
    {
     "data": {
      "text/plain": [
       "<AxesSubplot:xlabel='Year'>"
      ]
     },
     "execution_count": 34,
     "metadata": {},
     "output_type": "execute_result"
    },
    {
     "data": {
      "image/png": "[encoded data removed]",
      "text/plain": [
       "<Figure size 1152x360 with 1 Axes>"
      ]
     },
     "metadata": {
      "needs_background": "light"
     },
     "output_type": "display_data"
    }
   ],
   "source": [
    "sns.boxplot(data=train_data, x='Year') #no outliers"
   ]
  },
  {
   "cell_type": "code",
   "execution_count": 35,
   "id": "c93c6131",
   "metadata": {
    "execution": {
     "iopub.execute_input": "2021-10-29T12:07:21.112607Z",
     "iopub.status.busy": "2021-10-29T12:07:21.111573Z",
     "iopub.status.idle": "2021-10-29T12:07:21.347615Z",
     "shell.execute_reply": "2021-10-29T12:07:21.346894Z",
     "shell.execute_reply.started": "2021-10-29T12:02:34.000309Z"
    },
    "papermill": {
     "duration": 0.324519,
     "end_time": "2021-10-29T12:07:21.347765",
     "exception": false,
     "start_time": "2021-10-29T12:07:21.023246",
     "status": "completed"
    },
    "tags": []
   },
   "outputs": [
    {
     "data": {
      "text/plain": [
       "<AxesSubplot:xlabel='Month'>"
      ]
     },
     "execution_count": 35,
     "metadata": {},
     "output_type": "execute_result"
    },
    {
     "data": {
      "image/png": "[encoded data removed]",
      "text/plain": [
       "<Figure size 1152x360 with 1 Axes>"
      ]
     },
     "metadata": {
      "needs_background": "light"
     },
     "output_type": "display_data"
    }
   ],
   "source": [
    "sns.boxplot(data=train_data, x='Month')\n",
    "\n"
   ]
  },
  {
   "cell_type": "code",
   "execution_count": 36,
   "id": "600ed457",
   "metadata": {
    "execution": {
     "iopub.execute_input": "2021-10-29T12:07:21.509015Z",
     "iopub.status.busy": "2021-10-29T12:07:21.508324Z",
     "iopub.status.idle": "2021-10-29T12:07:21.976645Z",
     "shell.execute_reply": "2021-10-29T12:07:21.977155Z",
     "shell.execute_reply.started": "2021-10-29T12:02:34.221101Z"
    },
    "papermill": {
     "duration": 0.550291,
     "end_time": "2021-10-29T12:07:21.977381",
     "exception": false,
     "start_time": "2021-10-29T12:07:21.427090",
     "status": "completed"
    },
    "tags": []
   },
   "outputs": [
    {
     "data": {
      "text/plain": [
       "<AxesSubplot:xlabel='X'>"
      ]
     },
     "execution_count": 36,
     "metadata": {},
     "output_type": "execute_result"
    },
    {
     "data": {
      "image/png": "[encoded data removed]",
      "text/plain": [
       "<Figure size 1152x360 with 1 Axes>"
      ]
     },
     "metadata": {
      "needs_background": "light"
     },
     "output_type": "display_data"
    }
   ],
   "source": [
    "sns.boxplot(data=train_data, x='X')"
   ]
  },
  {
   "cell_type": "code",
   "execution_count": 37,
   "id": "410f3979",
   "metadata": {
    "execution": {
     "iopub.execute_input": "2021-10-29T12:07:22.144208Z",
     "iopub.status.busy": "2021-10-29T12:07:22.143608Z",
     "iopub.status.idle": "2021-10-29T12:07:22.364342Z",
     "shell.execute_reply": "2021-10-29T12:07:22.364932Z",
     "shell.execute_reply.started": "2021-10-29T12:02:34.680607Z"
    },
    "papermill": {
     "duration": 0.305258,
     "end_time": "2021-10-29T12:07:22.365142",
     "exception": false,
     "start_time": "2021-10-29T12:07:22.059884",
     "status": "completed"
    },
    "tags": []
   },
   "outputs": [
    {
     "data": {
      "text/plain": [
       "<AxesSubplot:xlabel='Y'>"
      ]
     },
     "execution_count": 37,
     "metadata": {},
     "output_type": "execute_result"
    },
    {
     "data": {
      "image/png": "[encoded data removed]",
      "text/plain": [
       "<Figure size 1152x360 with 1 Axes>"
      ]
     },
     "metadata": {
      "needs_background": "light"
     },
     "output_type": "display_data"
    }
   ],
   "source": [
    "sns.boxplot(data=train_data, x='Y')"
   ]
  },
  {
   "cell_type": "code",
   "execution_count": 38,
   "id": "aef22bbd",
   "metadata": {
    "execution": {
     "iopub.execute_input": "2021-10-29T12:07:22.530859Z",
     "iopub.status.busy": "2021-10-29T12:07:22.530154Z",
     "iopub.status.idle": "2021-10-29T12:07:22.536065Z",
     "shell.execute_reply": "2021-10-29T12:07:22.536646Z",
     "shell.execute_reply.started": "2021-10-29T12:02:34.904819Z"
    },
    "papermill": {
     "duration": 0.090281,
     "end_time": "2021-10-29T12:07:22.536843",
     "exception": false,
     "start_time": "2021-10-29T12:07:22.446562",
     "status": "completed"
    },
    "tags": []
   },
   "outputs": [],
   "source": [
    "#function for outliers\n",
    "def fix_outliers(df_, colName):\n",
    "  q1 = df_[colName].quantile(0.25)\n",
    "  q3 = df_[colName].quantile(0.75)\n",
    "  range = q3-q1\n",
    "  whisker_upper = q3+1.5*range\n",
    "  whisker_lower = q1-1.5*range\n",
    "  df_[colName] = np.where(df_[colName]>whisker_upper, whisker_upper, np.where(df_[colName]<whisker_lower, whisker_lower, df_[colName]))\n",
    "  return df_"
   ]
  },
  {
   "cell_type": "code",
   "execution_count": 39,
   "id": "29841c65",
   "metadata": {
    "execution": {
     "iopub.execute_input": "2021-10-29T12:07:22.703227Z",
     "iopub.status.busy": "2021-10-29T12:07:22.702318Z",
     "iopub.status.idle": "2021-10-29T12:07:22.789423Z",
     "shell.execute_reply": "2021-10-29T12:07:22.790034Z",
     "shell.execute_reply.started": "2021-10-29T12:02:34.912361Z"
    },
    "papermill": {
     "duration": 0.171201,
     "end_time": "2021-10-29T12:07:22.790212",
     "exception": false,
     "start_time": "2021-10-29T12:07:22.619011",
     "status": "completed"
    },
    "tags": []
   },
   "outputs": [],
   "source": [
    "train_data= fix_outliers(train_data, 'X')\n",
    "train_data= fix_outliers(train_data, 'Y')"
   ]
  },
  {
   "cell_type": "code",
   "execution_count": 40,
   "id": "59383921",
   "metadata": {
    "execution": {
     "iopub.execute_input": "2021-10-29T12:07:22.957134Z",
     "iopub.status.busy": "2021-10-29T12:07:22.956446Z",
     "iopub.status.idle": "2021-10-29T12:07:23.182734Z",
     "shell.execute_reply": "2021-10-29T12:07:23.183313Z",
     "shell.execute_reply.started": "2021-10-29T12:02:35.010208Z"
    },
    "papermill": {
     "duration": 0.310842,
     "end_time": "2021-10-29T12:07:23.183515",
     "exception": false,
     "start_time": "2021-10-29T12:07:22.872673",
     "status": "completed"
    },
    "tags": []
   },
   "outputs": [
    {
     "data": {
      "text/plain": [
       "<AxesSubplot:xlabel='Y'>"
      ]
     },
     "execution_count": 40,
     "metadata": {},
     "output_type": "execute_result"
    },
    {
     "data": {
      "image/png": "[encoded data removed]",
      "text/plain": [
       "<Figure size 1152x360 with 1 Axes>"
      ]
     },
     "metadata": {
      "needs_background": "light"
     },
     "output_type": "display_data"
    }
   ],
   "source": [
    "sns.boxplot(data=train_data, x='Y') #outliers fixed"
   ]
  },
  {
   "cell_type": "code",
   "execution_count": 41,
   "id": "7ec54a5d",
   "metadata": {
    "execution": {
     "iopub.execute_input": "2021-10-29T12:07:23.353029Z",
     "iopub.status.busy": "2021-10-29T12:07:23.352226Z",
     "iopub.status.idle": "2021-10-29T12:07:24.386931Z",
     "shell.execute_reply": "2021-10-29T12:07:24.386263Z",
     "shell.execute_reply.started": "2021-10-29T12:02:35.197105Z"
    },
    "papermill": {
     "duration": 1.121494,
     "end_time": "2021-10-29T12:07:24.387074",
     "exception": false,
     "start_time": "2021-10-29T12:07:23.265580",
     "status": "completed"
    },
    "tags": []
   },
   "outputs": [
    {
     "data": {
      "text/plain": [
       "(878049, 12)"
      ]
     },
     "execution_count": 41,
     "metadata": {},
     "output_type": "execute_result"
    }
   ],
   "source": [
    "train_data.drop_duplicates()\n",
    "train_data.shape"
   ]
  },
  {
   "cell_type": "code",
   "execution_count": 42,
   "id": "59cb6501",
   "metadata": {
    "execution": {
     "iopub.execute_input": "2021-10-29T12:07:24.561921Z",
     "iopub.status.busy": "2021-10-29T12:07:24.561070Z",
     "iopub.status.idle": "2021-10-29T12:07:24.599459Z",
     "shell.execute_reply": "2021-10-29T12:07:24.598822Z",
     "shell.execute_reply.started": "2021-10-29T12:02:36.211322Z"
    },
    "papermill": {
     "duration": 0.130488,
     "end_time": "2021-10-29T12:07:24.599640",
     "exception": false,
     "start_time": "2021-10-29T12:07:24.469152",
     "status": "completed"
    },
    "tags": []
   },
   "outputs": [],
   "source": [
    "#dropping undeeded columns\n",
    "train_data.drop(['Resolution', 'Descript', 'Address', 'Dates','DayOfWeek'], inplace=True, axis=1)"
   ]
  },
  {
   "cell_type": "code",
   "execution_count": 43,
   "id": "d0bd3ade",
   "metadata": {
    "execution": {
     "iopub.execute_input": "2021-10-29T12:07:24.771103Z",
     "iopub.status.busy": "2021-10-29T12:07:24.770301Z",
     "iopub.status.idle": "2021-10-29T12:07:25.001374Z",
     "shell.execute_reply": "2021-10-29T12:07:25.000638Z",
     "shell.execute_reply.started": "2021-10-29T12:02:36.252807Z"
    },
    "papermill": {
     "duration": 0.318788,
     "end_time": "2021-10-29T12:07:25.001524",
     "exception": false,
     "start_time": "2021-10-29T12:07:24.682736",
     "status": "completed"
    },
    "tags": []
   },
   "outputs": [
    {
     "data": {
      "text/plain": [
       "<AxesSubplot:xlabel='X'>"
      ]
     },
     "execution_count": 43,
     "metadata": {},
     "output_type": "execute_result"
    },
    {
     "data": {
      "image/png": "[encoded data removed]",
      "text/plain": [
       "<Figure size 1152x360 with 1 Axes>"
      ]
     },
     "metadata": {
      "needs_background": "light"
     },
     "output_type": "display_data"
    }
   ],
   "source": [
    "sns.boxplot(data=train_data, x='X') #outliers fixed"
   ]
  },
  {
   "cell_type": "code",
   "execution_count": 44,
   "id": "31f2bf4c",
   "metadata": {
    "execution": {
     "iopub.execute_input": "2021-10-29T12:07:25.176811Z",
     "iopub.status.busy": "2021-10-29T12:07:25.176087Z",
     "iopub.status.idle": "2021-10-29T12:07:25.219806Z",
     "shell.execute_reply": "2021-10-29T12:07:25.219121Z",
     "shell.execute_reply.started": "2021-10-29T12:02:36.482226Z"
    },
    "papermill": {
     "duration": 0.13224,
     "end_time": "2021-10-29T12:07:25.219973",
     "exception": false,
     "start_time": "2021-10-29T12:07:25.087733",
     "status": "completed"
    },
    "tags": []
   },
   "outputs": [],
   "source": [
    "#no null values in test data and there is no need to check for unique values\n",
    "test_data.drop(['Id', 'Address', 'Dates','DayOfWeek'], inplace=True, axis=1) #dropping useless columns"
   ]
  },
  {
   "cell_type": "code",
   "execution_count": 45,
   "id": "2be3b2a4",
   "metadata": {
    "execution": {
     "iopub.execute_input": "2021-10-29T12:07:25.389449Z",
     "iopub.status.busy": "2021-10-29T12:07:25.388450Z",
     "iopub.status.idle": "2021-10-29T12:07:25.851169Z",
     "shell.execute_reply": "2021-10-29T12:07:25.851791Z",
     "shell.execute_reply.started": "2021-10-29T12:02:36.532425Z"
    },
    "papermill": {
     "duration": 0.549343,
     "end_time": "2021-10-29T12:07:25.851965",
     "exception": false,
     "start_time": "2021-10-29T12:07:25.302622",
     "status": "completed"
    },
    "tags": []
   },
   "outputs": [
    {
     "data": {
      "text/plain": [
       "<AxesSubplot:xlabel='X'>"
      ]
     },
     "execution_count": 45,
     "metadata": {},
     "output_type": "execute_result"
    },
    {
     "data": {
      "image/png": "[encoded data removed]",
      "text/plain": [
       "<Figure size 1152x360 with 1 Axes>"
      ]
     },
     "metadata": {
      "needs_background": "light"
     },
     "output_type": "display_data"
    }
   ],
   "source": [
    "sns.boxplot(data=test_data, x='X')"
   ]
  },
  {
   "cell_type": "code",
   "execution_count": 46,
   "id": "1d813721",
   "metadata": {
    "execution": {
     "iopub.execute_input": "2021-10-29T12:07:26.028086Z",
     "iopub.status.busy": "2021-10-29T12:07:26.026759Z",
     "iopub.status.idle": "2021-10-29T12:07:26.225397Z",
     "shell.execute_reply": "2021-10-29T12:07:26.226191Z",
     "shell.execute_reply.started": "2021-10-29T12:02:37.039802Z"
    },
    "papermill": {
     "duration": 0.287825,
     "end_time": "2021-10-29T12:07:26.226421",
     "exception": false,
     "start_time": "2021-10-29T12:07:25.938596",
     "status": "completed"
    },
    "tags": []
   },
   "outputs": [
    {
     "data": {
      "text/plain": [
       "<AxesSubplot:xlabel='Y'>"
      ]
     },
     "execution_count": 46,
     "metadata": {},
     "output_type": "execute_result"
    },
    {
     "data": {
      "image/png": "[encoded data removed]",
      "text/plain": [
       "<Figure size 1152x360 with 1 Axes>"
      ]
     },
     "metadata": {
      "needs_background": "light"
     },
     "output_type": "display_data"
    }
   ],
   "source": [
    "sns.boxplot(data=test_data, x='Y')"
   ]
  },
  {
   "cell_type": "code",
   "execution_count": 47,
   "id": "6bb22654",
   "metadata": {
    "execution": {
     "iopub.execute_input": "2021-10-29T12:07:26.403991Z",
     "iopub.status.busy": "2021-10-29T12:07:26.402841Z",
     "iopub.status.idle": "2021-10-29T12:07:26.489759Z",
     "shell.execute_reply": "2021-10-29T12:07:26.490323Z",
     "shell.execute_reply.started": "2021-10-29T12:02:37.266065Z"
    },
    "papermill": {
     "duration": 0.176027,
     "end_time": "2021-10-29T12:07:26.490521",
     "exception": false,
     "start_time": "2021-10-29T12:07:26.314494",
     "status": "completed"
    },
    "tags": []
   },
   "outputs": [],
   "source": [
    "test_data= fix_outliers(test_data, 'X')\n",
    "test_data= fix_outliers(test_data, 'Y')"
   ]
  },
  {
   "cell_type": "code",
   "execution_count": 48,
   "id": "9a7f0810",
   "metadata": {
    "execution": {
     "iopub.execute_input": "2021-10-29T12:07:26.666691Z",
     "iopub.status.busy": "2021-10-29T12:07:26.665401Z",
     "iopub.status.idle": "2021-10-29T12:07:26.834674Z",
     "shell.execute_reply": "2021-10-29T12:07:26.835216Z",
     "shell.execute_reply.started": "2021-10-29T12:02:37.356304Z"
    },
    "papermill": {
     "duration": 0.260082,
     "end_time": "2021-10-29T12:07:26.835417",
     "exception": false,
     "start_time": "2021-10-29T12:07:26.575335",
     "status": "completed"
    },
    "tags": []
   },
   "outputs": [
    {
     "data": {
      "text/plain": [
       "<AxesSubplot:xlabel='X'>"
      ]
     },
     "execution_count": 48,
     "metadata": {},
     "output_type": "execute_result"
    },
    {
     "data": {
      "image/png": "[encoded data removed]",
      "text/plain": [
       "<Figure size 1152x360 with 1 Axes>"
      ]
     },
     "metadata": {
      "needs_background": "light"
     },
     "output_type": "display_data"
    }
   ],
   "source": [
    "sns.boxplot(data=test_data, x='X')"
   ]
  },
  {
   "cell_type": "code",
   "execution_count": 49,
   "id": "b9d86e4b",
   "metadata": {
    "execution": {
     "iopub.execute_input": "2021-10-29T12:07:27.015582Z",
     "iopub.status.busy": "2021-10-29T12:07:27.014797Z",
     "iopub.status.idle": "2021-10-29T12:07:27.239686Z",
     "shell.execute_reply": "2021-10-29T12:07:27.240178Z",
     "shell.execute_reply.started": "2021-10-29T12:02:37.587976Z"
    },
    "papermill": {
     "duration": 0.318783,
     "end_time": "2021-10-29T12:07:27.240396",
     "exception": false,
     "start_time": "2021-10-29T12:07:26.921613",
     "status": "completed"
    },
    "tags": []
   },
   "outputs": [
    {
     "data": {
      "text/plain": [
       "<AxesSubplot:xlabel='Y'>"
      ]
     },
     "execution_count": 49,
     "metadata": {},
     "output_type": "execute_result"
    },
    {
     "data": {
      "image/png": "[encoded data removed]",
      "text/plain": [
       "<Figure size 1152x360 with 1 Axes>"
      ]
     },
     "metadata": {
      "needs_background": "light"
     },
     "output_type": "display_data"
    }
   ],
   "source": [
    "sns.boxplot(data=test_data, x='Y')"
   ]
  },
  {
   "cell_type": "code",
   "execution_count": 50,
   "id": "b72e58fd",
   "metadata": {
    "execution": {
     "iopub.execute_input": "2021-10-29T12:07:27.425887Z",
     "iopub.status.busy": "2021-10-29T12:07:27.425147Z",
     "iopub.status.idle": "2021-10-29T12:07:27.427831Z",
     "shell.execute_reply": "2021-10-29T12:07:27.428331Z",
     "shell.execute_reply.started": "2021-10-29T12:02:37.816059Z"
    },
    "papermill": {
     "duration": 0.100113,
     "end_time": "2021-10-29T12:07:27.428531",
     "exception": false,
     "start_time": "2021-10-29T12:07:27.328418",
     "status": "completed"
    },
    "tags": []
   },
   "outputs": [
    {
     "data": {
      "text/plain": [
       "<bound method NDFrame.head of        PdDistrict           X          Y  Month  Year\n",
       "0         BAYVIEW -122.399588  37.735051      5  2015\n",
       "1         BAYVIEW -122.391523  37.732432      5  2015\n",
       "2        NORTHERN -122.426002  37.792212      5  2015\n",
       "3       INGLESIDE -122.437394  37.721412      5  2015\n",
       "4       INGLESIDE -122.437394  37.721412      5  2015\n",
       "...           ...         ...        ...    ...   ...\n",
       "884257    MISSION -122.408983  37.751987      1  2003\n",
       "884258   NORTHERN -122.425342  37.792681      1  2003\n",
       "884259  INGLESIDE -122.445418  37.712075      1  2003\n",
       "884260    BAYVIEW -122.387394  37.739479      1  2003\n",
       "884261    TARAVAL -122.472234  37.733950      1  2003\n",
       "\n",
       "[884262 rows x 5 columns]>"
      ]
     },
     "execution_count": 50,
     "metadata": {},
     "output_type": "execute_result"
    }
   ],
   "source": [
    "test_data.head"
   ]
  },
  {
   "cell_type": "code",
   "execution_count": 51,
   "id": "cdd50dbe",
   "metadata": {
    "execution": {
     "iopub.execute_input": "2021-10-29T12:07:27.606703Z",
     "iopub.status.busy": "2021-10-29T12:07:27.605951Z",
     "iopub.status.idle": "2021-10-29T12:07:28.555600Z",
     "shell.execute_reply": "2021-10-29T12:07:28.554744Z",
     "shell.execute_reply.started": "2021-10-29T12:02:37.830149Z"
    },
    "papermill": {
     "duration": 1.039565,
     "end_time": "2021-10-29T12:07:28.555809",
     "exception": false,
     "start_time": "2021-10-29T12:07:27.516244",
     "status": "completed"
    },
    "tags": []
   },
   "outputs": [],
   "source": [
    "le1 = LabelEncoder()\n",
    "train_data['PdDistrict'] = le1.fit_transform(train_data['PdDistrict'])\n",
    "test_data['PdDistrict'] = le1.transform(test_data['PdDistrict'])\n",
    "\n",
    "le2 = LabelEncoder()\n",
    "X = train_data.drop(columns=['Category'])\n",
    "y= le2.fit_transform(train_data['Category'])"
   ]
  },
  {
   "cell_type": "code",
   "execution_count": 52,
   "id": "521477a1",
   "metadata": {
    "execution": {
     "iopub.execute_input": "2021-10-29T12:07:28.738133Z",
     "iopub.status.busy": "2021-10-29T12:07:28.737488Z",
     "iopub.status.idle": "2021-10-29T12:07:28.845958Z",
     "shell.execute_reply": "2021-10-29T12:07:28.845261Z",
     "shell.execute_reply.started": "2021-10-29T12:02:38.803897Z"
    },
    "papermill": {
     "duration": 0.202367,
     "end_time": "2021-10-29T12:07:28.846108",
     "exception": false,
     "start_time": "2021-10-29T12:07:28.643741",
     "status": "completed"
    },
    "tags": []
   },
   "outputs": [],
   "source": [
    "from sklearn.tree import DecisionTreeClassifier\n",
    "from sklearn.model_selection import train_test_split\n",
    "\n",
    "X_train, X_test, y_train, y_test = train_test_split(X, y, test_size=0.20)"
   ]
  },
  {
   "cell_type": "code",
   "execution_count": 53,
   "id": "782d9a16",
   "metadata": {
    "execution": {
     "iopub.execute_input": "2021-10-29T12:07:29.029665Z",
     "iopub.status.busy": "2021-10-29T12:07:29.028380Z",
     "iopub.status.idle": "2021-10-29T12:07:35.331493Z",
     "shell.execute_reply": "2021-10-29T12:07:35.330860Z",
     "shell.execute_reply.started": "2021-10-29T12:02:38.915525Z"
    },
    "papermill": {
     "duration": 6.397921,
     "end_time": "2021-10-29T12:07:35.331656",
     "exception": false,
     "start_time": "2021-10-29T12:07:28.933735",
     "status": "completed"
    },
    "tags": []
   },
   "outputs": [],
   "source": [
    "dtree = DecisionTreeClassifier()\n",
    "dtree.fit(X_train,y_train)\n",
    "predictions = dtree.predict(X_test)"
   ]
  },
  {
   "cell_type": "code",
   "execution_count": 54,
   "id": "3a053148",
   "metadata": {
    "execution": {
     "iopub.execute_input": "2021-10-29T12:07:35.511019Z",
     "iopub.status.busy": "2021-10-29T12:07:35.509831Z",
     "iopub.status.idle": "2021-10-29T12:07:35.947435Z",
     "shell.execute_reply": "2021-10-29T12:07:35.946655Z",
     "shell.execute_reply.started": "2021-10-29T12:02:44.995508Z"
    },
    "papermill": {
     "duration": 0.527283,
     "end_time": "2021-10-29T12:07:35.947590",
     "exception": false,
     "start_time": "2021-10-29T12:07:35.420307",
     "status": "completed"
    },
    "tags": []
   },
   "outputs": [
    {
     "name": "stderr",
     "output_type": "stream",
     "text": [
      "/opt/conda/lib/python3.7/site-packages/sklearn/metrics/_classification.py:1221: UndefinedMetricWarning: Precision and F-score are ill-defined and being set to 0.0 in labels with no predicted samples. Use `zero_division` parameter to control this behavior.\n",
      "  _warn_prf(average, modifier, msg_start, len(result))\n"
     ]
    },
    {
     "name": "stdout",
     "output_type": "stream",
     "text": [
      "              precision    recall  f1-score   support\n",
      "\n",
      "           0       0.02      0.03      0.02       280\n",
      "           1       0.20      0.25      0.22     15449\n",
      "           2       0.00      0.00      0.00        89\n",
      "           3       0.00      0.00      0.00        55\n",
      "           4       0.12      0.13      0.13      7357\n",
      "           5       0.04      0.05      0.04       907\n",
      "           6       0.03      0.04      0.03       445\n",
      "           7       0.34      0.47      0.39     10904\n",
      "           8       0.00      0.00      0.00       868\n",
      "           9       0.01      0.01      0.01       253\n",
      "          10       0.00      0.00      0.00        53\n",
      "          11       0.05      0.07      0.06        91\n",
      "          12       0.09      0.11      0.10      2093\n",
      "          13       0.06      0.07      0.07      3314\n",
      "          14       0.04      0.03      0.04        29\n",
      "          15       0.02      0.02      0.02       487\n",
      "          16       0.38      0.35      0.37     34880\n",
      "          17       0.06      0.06      0.06       403\n",
      "          18       0.16      0.20      0.18       236\n",
      "          19       0.48      0.52      0.50      5248\n",
      "          20       0.20      0.18      0.19     18458\n",
      "          21       0.23      0.22      0.23     25090\n",
      "          22       0.00      0.00      0.00         3\n",
      "          23       0.57      0.55      0.56      1533\n",
      "          24       0.03      0.02      0.02       669\n",
      "          25       0.07      0.06      0.07      4593\n",
      "          26       0.25      0.22      0.23       370\n",
      "          27       0.00      0.00      0.00      1953\n",
      "          28       0.13      0.11      0.12       865\n",
      "          29       0.00      0.00      0.00        36\n",
      "          30       0.02      0.02      0.02       887\n",
      "          31       0.05      0.04      0.04       112\n",
      "          32       0.07      0.05      0.06      6384\n",
      "          33       0.00      0.00      0.00         3\n",
      "          34       0.04      0.03      0.03      1451\n",
      "          35       0.11      0.10      0.10      8780\n",
      "          36       0.41      0.42      0.42     10808\n",
      "          37       0.12      0.09      0.10      8429\n",
      "          38       0.11      0.08      0.09      1745\n",
      "\n",
      "    accuracy                           0.24    175610\n",
      "   macro avg       0.12      0.12      0.12    175610\n",
      "weighted avg       0.24      0.24      0.24    175610\n",
      "\n"
     ]
    }
   ],
   "source": [
    "print (classification_report(y_test,predictions))"
   ]
  },
  {
   "cell_type": "code",
   "execution_count": 55,
   "id": "275c34fc",
   "metadata": {
    "execution": {
     "iopub.execute_input": "2021-10-29T12:07:36.133611Z",
     "iopub.status.busy": "2021-10-29T12:07:36.132599Z",
     "iopub.status.idle": "2021-10-29T12:08:24.154746Z",
     "shell.execute_reply": "2021-10-29T12:08:24.155280Z",
     "shell.execute_reply.started": "2021-10-29T12:02:45.430964Z"
    },
    "papermill": {
     "duration": 48.118304,
     "end_time": "2021-10-29T12:08:24.155487",
     "exception": false,
     "start_time": "2021-10-29T12:07:36.037183",
     "status": "completed"
    },
    "tags": []
   },
   "outputs": [
    {
     "data": {
      "text/plain": [
       "RandomForestClassifier(min_samples_split=100, n_estimators=40)"
      ]
     },
     "execution_count": 55,
     "metadata": {},
     "output_type": "execute_result"
    }
   ],
   "source": [
    "rfc = RandomForestClassifier(n_estimators=40,min_samples_split=100 )\n",
    "rfc.fit(X_train, y_train)"
   ]
  },
  {
   "cell_type": "code",
   "execution_count": 56,
   "id": "9c58823c",
   "metadata": {
    "execution": {
     "iopub.execute_input": "2021-10-29T12:08:24.336656Z",
     "iopub.status.busy": "2021-10-29T12:08:24.335771Z",
     "iopub.status.idle": "2021-10-29T12:08:41.839306Z",
     "shell.execute_reply": "2021-10-29T12:08:41.839945Z",
     "shell.execute_reply.started": "2021-10-29T12:03:32.192391Z"
    },
    "papermill": {
     "duration": 17.597669,
     "end_time": "2021-10-29T12:08:41.840128",
     "exception": false,
     "start_time": "2021-10-29T12:08:24.242459",
     "status": "completed"
    },
    "tags": []
   },
   "outputs": [
    {
     "name": "stdout",
     "output_type": "stream",
     "text": [
      "Train Accuracy:  0.3319903934718887\n",
      "Test Accuracy:  0.2889983486134047\n"
     ]
    }
   ],
   "source": [
    "rfc_pred = rfc.predict(X_test)\n",
    "print (\"Train Accuracy: \", accuracy_score(y_train, rfc.predict(X_train)))\n",
    "print (\"Test Accuracy: \", accuracy_score(y_test, rfc_pred))"
   ]
  },
  {
   "cell_type": "code",
   "execution_count": 57,
   "id": "724bf2cd",
   "metadata": {
    "execution": {
     "iopub.execute_input": "2021-10-29T12:08:42.021165Z",
     "iopub.status.busy": "2021-10-29T12:08:42.020503Z",
     "iopub.status.idle": "2021-10-29T12:08:42.399244Z",
     "shell.execute_reply": "2021-10-29T12:08:42.398662Z",
     "shell.execute_reply.started": "2021-10-29T12:03:49.463964Z"
    },
    "papermill": {
     "duration": 0.471,
     "end_time": "2021-10-29T12:08:42.399411",
     "exception": false,
     "start_time": "2021-10-29T12:08:41.928411",
     "status": "completed"
    },
    "tags": []
   },
   "outputs": [
    {
     "name": "stderr",
     "output_type": "stream",
     "text": [
      "/opt/conda/lib/python3.7/site-packages/sklearn/metrics/_classification.py:1221: UndefinedMetricWarning: Precision and F-score are ill-defined and being set to 0.0 in labels with no predicted samples. Use `zero_division` parameter to control this behavior.\n",
      "  _warn_prf(average, modifier, msg_start, len(result))\n"
     ]
    },
    {
     "name": "stdout",
     "output_type": "stream",
     "text": [
      "              precision    recall  f1-score   support\n",
      "\n",
      "           0       0.00      0.00      0.00       280\n",
      "           1       0.22      0.11      0.15     15449\n",
      "           2       0.00      0.00      0.00        89\n",
      "           3       0.00      0.00      0.00        55\n",
      "           4       0.23      0.01      0.02      7357\n",
      "           5       0.19      0.00      0.01       907\n",
      "           6       0.00      0.00      0.00       445\n",
      "           7       0.35      0.45      0.39     10904\n",
      "           8       0.00      0.00      0.00       868\n",
      "           9       0.00      0.00      0.00       253\n",
      "          10       0.00      0.00      0.00        53\n",
      "          11       0.00      0.00      0.00        91\n",
      "          12       0.17      0.01      0.01      2093\n",
      "          13       0.33      0.01      0.02      3314\n",
      "          14       0.00      0.00      0.00        29\n",
      "          15       0.00      0.00      0.00       487\n",
      "          16       0.31      0.75      0.44     34880\n",
      "          17       0.43      0.01      0.01       403\n",
      "          18       0.71      0.08      0.15       236\n",
      "          19       0.63      0.27      0.38      5248\n",
      "          20       0.26      0.16      0.19     18458\n",
      "          21       0.23      0.38      0.29     25090\n",
      "          22       0.00      0.00      0.00         3\n",
      "          23       0.50      0.69      0.58      1533\n",
      "          24       0.00      0.00      0.00       669\n",
      "          25       0.23      0.00      0.00      4593\n",
      "          26       0.67      0.15      0.25       370\n",
      "          27       0.00      0.00      0.00      1953\n",
      "          28       1.00      0.00      0.00       865\n",
      "          29       0.00      0.00      0.00        36\n",
      "          30       0.00      0.00      0.00       887\n",
      "          31       0.00      0.00      0.00       112\n",
      "          32       0.00      0.00      0.00      6384\n",
      "          33       0.00      0.00      0.00         3\n",
      "          34       0.33      0.03      0.05      1451\n",
      "          35       0.24      0.01      0.02      8780\n",
      "          36       0.29      0.24      0.26     10808\n",
      "          37       0.24      0.00      0.01      8429\n",
      "          38       1.00      0.00      0.00      1745\n",
      "\n",
      "    accuracy                           0.29    175610\n",
      "   macro avg       0.22      0.09      0.08    175610\n",
      "weighted avg       0.27      0.29      0.22    175610\n",
      "\n"
     ]
    }
   ],
   "source": [
    "print (classification_report(y_test,rfc_pred))"
   ]
  },
  {
   "cell_type": "code",
   "execution_count": 58,
   "id": "8b0fc976",
   "metadata": {
    "execution": {
     "iopub.execute_input": "2021-10-29T12:08:42.587530Z",
     "iopub.status.busy": "2021-10-29T12:08:42.586751Z",
     "iopub.status.idle": "2021-10-29T12:10:33.335321Z",
     "shell.execute_reply": "2021-10-29T12:10:33.335913Z",
     "shell.execute_reply.started": "2021-10-29T12:03:49.834015Z"
    },
    "papermill": {
     "duration": 110.843902,
     "end_time": "2021-10-29T12:10:33.336099",
     "exception": false,
     "start_time": "2021-10-29T12:08:42.492197",
     "status": "completed"
    },
    "tags": []
   },
   "outputs": [
    {
     "name": "stdout",
     "output_type": "stream",
     "text": [
      "Train Accuracy:  0.3464827550862068\n",
      "Test Accuracy:  0.29197653892147374\n"
     ]
    }
   ],
   "source": [
    "#model tuning\n",
    "rfc = RandomForestClassifier(n_estimators=60,min_samples_split=80 )\n",
    "rfc.fit(X_train, y_train)\n",
    "rfc_pred = rfc.predict(X_test)\n",
    "print (\"Train Accuracy: \", accuracy_score(y_train, rfc.predict(X_train)))\n",
    "print (\"Test Accuracy: \", accuracy_score(y_test, rfc_pred))"
   ]
  },
  {
   "cell_type": "code",
   "execution_count": 59,
   "id": "531fee0e",
   "metadata": {
    "execution": {
     "iopub.execute_input": "2021-10-29T12:10:33.576757Z",
     "iopub.status.busy": "2021-10-29T12:10:33.576005Z",
     "iopub.status.idle": "2021-10-29T12:10:34.631059Z",
     "shell.execute_reply": "2021-10-29T12:10:34.630477Z",
     "shell.execute_reply.started": "2021-10-29T12:05:33.307674Z"
    },
    "papermill": {
     "duration": 1.148985,
     "end_time": "2021-10-29T12:10:34.631203",
     "exception": false,
     "start_time": "2021-10-29T12:10:33.482218",
     "status": "completed"
    },
    "tags": []
   },
   "outputs": [
    {
     "data": {
      "image/png": "[encoded data removed]",
      "text/plain": [
       "<Figure size 720x504 with 2 Axes>"
      ]
     },
     "metadata": {
      "needs_background": "light"
     },
     "output_type": "display_data"
    }
   ],
   "source": [
    "cm = confusion_matrix(y_test,predictions)\n",
    "fig, ax = plt.subplots(figsize=(10, 7))\n",
    "sns.heatmap(cm, annot=False, ax = ax); \n",
    "ax.set_xlabel('Predicted labels');ax.set_ylabel('True labels'); \n",
    "ax.set_title('Confusion Matrix');"
   ]
  },
  {
   "cell_type": "code",
   "execution_count": 60,
   "id": "974ed1f0",
   "metadata": {
    "execution": {
     "iopub.execute_input": "2021-10-29T12:10:34.821976Z",
     "iopub.status.busy": "2021-10-29T12:10:34.820965Z",
     "iopub.status.idle": "2021-10-29T12:11:06.558714Z",
     "shell.execute_reply": "2021-10-29T12:11:06.559325Z"
    },
    "papermill": {
     "duration": 31.836277,
     "end_time": "2021-10-29T12:11:06.559713",
     "exception": false,
     "start_time": "2021-10-29T12:10:34.723436",
     "status": "completed"
    },
    "tags": []
   },
   "outputs": [
    {
     "data": {
      "text/plain": [
       "0.19890666818518307"
      ]
     },
     "execution_count": 60,
     "metadata": {},
     "output_type": "execute_result"
    }
   ],
   "source": [
    "svm_clf = SVC(C=0.1, kernel='linear')\n",
    "svm_clf = svm_clf.fit(X_train[0:3000], y_train[0:3000])\n",
    "y_pred = svm_clf.predict(X_test)\n",
    "accuracy_score(y_pred, y_test)"
   ]
  },
  {
   "cell_type": "code",
   "execution_count": 61,
   "id": "7d6fa656",
   "metadata": {
    "execution": {
     "iopub.execute_input": "2021-10-29T12:11:06.748591Z",
     "iopub.status.busy": "2021-10-29T12:11:06.747543Z",
     "iopub.status.idle": "2021-10-29T12:11:46.491490Z",
     "shell.execute_reply": "2021-10-29T12:11:46.492045Z"
    },
    "papermill": {
     "duration": 39.840966,
     "end_time": "2021-10-29T12:11:46.492268",
     "exception": false,
     "start_time": "2021-10-29T12:11:06.651302",
     "status": "completed"
    },
    "tags": []
   },
   "outputs": [
    {
     "data": {
      "text/plain": [
       "0.19862194635840782"
      ]
     },
     "execution_count": 61,
     "metadata": {},
     "output_type": "execute_result"
    }
   ],
   "source": [
    "#model tuning\n",
    "svm_clf_2 = SVC(C=1000, kernel='rbf')\n",
    "svm_clf_2 = svm_clf_2.fit(X_train[0:3000], y_train[0:3000])\n",
    "y_pred_2 = svm_clf_2.predict(X_test)\n",
    "accuracy_score(y_pred_2, y_test)"
   ]
  },
  {
   "cell_type": "code",
   "execution_count": null,
   "id": "d0ebde29",
   "metadata": {
    "papermill": {
     "duration": 0.092115,
     "end_time": "2021-10-29T12:11:46.674948",
     "exception": false,
     "start_time": "2021-10-29T12:11:46.582833",
     "status": "completed"
    },
    "tags": []
   },
   "outputs": [],
   "source": []
  }
 ],
 "metadata": {
  "kernelspec": {
   "display_name": "Python 3",
   "language": "python",
   "name": "python3"
  },
  "language_info": {
   "codemirror_mode": {
    "name": "ipython",
    "version": 3
   },
   "file_extension": ".py",
   "mimetype": "text/x-python",
   "name": "python",
   "nbconvert_exporter": "python",
   "pygments_lexer": "ipython3",
   "version": "3.7.10"
  },
  "papermill": {
   "default_parameters": {},
   "duration": 309.048224,
   "end_time": "2021-10-29T12:11:48.196480",
   "environment_variables": {},
   "exception": null,
   "input_path": "__notebook__.ipynb",
   "output_path": "__notebook__.ipynb",
   "parameters": {},
   "start_time": "2021-10-29T12:06:39.148256",
   "version": "2.3.3"
  }
 },
 "nbformat": 4,
 "nbformat_minor": 5
}
